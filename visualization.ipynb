{
 "cells": [
  {
   "cell_type": "code",
   "execution_count": 1,
   "id": "d58c2835-fceb-4d13-a422-3d3cec1a12c3",
   "metadata": {},
   "outputs": [],
   "source": [
    "import pandas as pd\n",
    "import plotly.express as px"
   ]
  },
  {
   "cell_type": "code",
   "execution_count": 8,
   "id": "e3f68e4d-52d0-4dc4-b6d7-4ead471a5865",
   "metadata": {},
   "outputs": [
    {
     "data": {
      "text/html": [
       "<div>\n",
       "<style scoped>\n",
       "    .dataframe tbody tr th:only-of-type {\n",
       "        vertical-align: middle;\n",
       "    }\n",
       "\n",
       "    .dataframe tbody tr th {\n",
       "        vertical-align: top;\n",
       "    }\n",
       "\n",
       "    .dataframe thead th {\n",
       "        text-align: right;\n",
       "    }\n",
       "</style>\n",
       "<table border=\"1\" class=\"dataframe\">\n",
       "  <thead>\n",
       "    <tr style=\"text-align: right;\">\n",
       "      <th></th>\n",
       "      <th>City</th>\n",
       "      <th>Non-white Pop (%)</th>\n",
       "      <th>Vaccinated</th>\n",
       "      <th>Total Pop</th>\n",
       "      <th>Vaccinated by Share of Pop</th>\n",
       "      <th>Proportion</th>\n",
       "    </tr>\n",
       "  </thead>\n",
       "  <tbody>\n",
       "    <tr>\n",
       "      <th>0</th>\n",
       "      <td>Agoura Hills</td>\n",
       "      <td>26</td>\n",
       "      <td>3406</td>\n",
       "      <td>20883</td>\n",
       "      <td>6</td>\n",
       "      <td>0.163099</td>\n",
       "    </tr>\n",
       "    <tr>\n",
       "      <th>1</th>\n",
       "      <td>Alhambra</td>\n",
       "      <td>91</td>\n",
       "      <td>11941</td>\n",
       "      <td>86724</td>\n",
       "      <td>7</td>\n",
       "      <td>0.137690</td>\n",
       "    </tr>\n",
       "    <tr>\n",
       "      <th>2</th>\n",
       "      <td>Arcadia</td>\n",
       "      <td>78</td>\n",
       "      <td>9674</td>\n",
       "      <td>57754</td>\n",
       "      <td>6</td>\n",
       "      <td>0.167504</td>\n",
       "    </tr>\n",
       "    <tr>\n",
       "      <th>3</th>\n",
       "      <td>Artesia</td>\n",
       "      <td>85</td>\n",
       "      <td>2521</td>\n",
       "      <td>16795</td>\n",
       "      <td>7</td>\n",
       "      <td>0.150104</td>\n",
       "    </tr>\n",
       "    <tr>\n",
       "      <th>4</th>\n",
       "      <td>Avalon</td>\n",
       "      <td>57</td>\n",
       "      <td>250</td>\n",
       "      <td>3869</td>\n",
       "      <td>15</td>\n",
       "      <td>0.064616</td>\n",
       "    </tr>\n",
       "    <tr>\n",
       "      <th>...</th>\n",
       "      <td>...</td>\n",
       "      <td>...</td>\n",
       "      <td>...</td>\n",
       "      <td>...</td>\n",
       "      <td>...</td>\n",
       "      <td>...</td>\n",
       "    </tr>\n",
       "    <tr>\n",
       "      <th>81</th>\n",
       "      <td>Walnut</td>\n",
       "      <td>90</td>\n",
       "      <td>5589</td>\n",
       "      <td>30532</td>\n",
       "      <td>5</td>\n",
       "      <td>0.183054</td>\n",
       "    </tr>\n",
       "    <tr>\n",
       "      <th>82</th>\n",
       "      <td>West Covina</td>\n",
       "      <td>88</td>\n",
       "      <td>14446</td>\n",
       "      <td>108235</td>\n",
       "      <td>7</td>\n",
       "      <td>0.133469</td>\n",
       "    </tr>\n",
       "    <tr>\n",
       "      <th>83</th>\n",
       "      <td>West Hollywood</td>\n",
       "      <td>25</td>\n",
       "      <td>4314</td>\n",
       "      <td>36951</td>\n",
       "      <td>9</td>\n",
       "      <td>0.116749</td>\n",
       "    </tr>\n",
       "    <tr>\n",
       "      <th>84</th>\n",
       "      <td>Westlake Village</td>\n",
       "      <td>22</td>\n",
       "      <td>950</td>\n",
       "      <td>8360</td>\n",
       "      <td>9</td>\n",
       "      <td>0.113636</td>\n",
       "    </tr>\n",
       "    <tr>\n",
       "      <th>85</th>\n",
       "      <td>Whittier</td>\n",
       "      <td>78</td>\n",
       "      <td>9777</td>\n",
       "      <td>87432</td>\n",
       "      <td>9</td>\n",
       "      <td>0.111824</td>\n",
       "    </tr>\n",
       "  </tbody>\n",
       "</table>\n",
       "<p>86 rows × 6 columns</p>\n",
       "</div>"
      ],
      "text/plain": [
       "                City  Non-white Pop (%)  Vaccinated  Total Pop  \\\n",
       "0       Agoura Hills                 26        3406      20883   \n",
       "1           Alhambra                 91       11941      86724   \n",
       "2            Arcadia                 78        9674      57754   \n",
       "3            Artesia                 85        2521      16795   \n",
       "4             Avalon                 57         250       3869   \n",
       "..               ...                ...         ...        ...   \n",
       "81            Walnut                 90        5589      30532   \n",
       "82       West Covina                 88       14446     108235   \n",
       "83    West Hollywood                 25        4314      36951   \n",
       "84  Westlake Village                 22         950       8360   \n",
       "85          Whittier                 78        9777      87432   \n",
       "\n",
       "    Vaccinated by Share of Pop  Proportion  \n",
       "0                            6    0.163099  \n",
       "1                            7    0.137690  \n",
       "2                            6    0.167504  \n",
       "3                            7    0.150104  \n",
       "4                           15    0.064616  \n",
       "..                         ...         ...  \n",
       "81                           5    0.183054  \n",
       "82                           7    0.133469  \n",
       "83                           9    0.116749  \n",
       "84                           9    0.113636  \n",
       "85                           9    0.111824  \n",
       "\n",
       "[86 rows x 6 columns]"
      ]
     },
     "execution_count": 8,
     "metadata": {},
     "output_type": "execute_result"
    }
   ],
   "source": [
    "data = pd.read_csv('racial.csv')\n",
    "data = data.rename(columns={'Non-white Pop': 'Non-white Pop (%)'})\n",
    "data = data.rename(columns={\"Proportion of the City's Population That Has Been Vaccinated\": 'Proportion'})\n",
    "data"
   ]
  },
  {
   "cell_type": "code",
   "execution_count": 15,
   "id": "b7a3ed81-3147-4f94-a74e-ac3ffd7987d7",
   "metadata": {
    "scrolled": true
   },
   "outputs": [
    {
     "data": {
      "application/vnd.plotly.v1+json": {
       "config": {
        "plotlyServerURL": "https://plot.ly"
       },
       "data": [
        {
         "customdata": [
          [
           "Agoura Hills"
          ],
          [
           "Alhambra"
          ],
          [
           "Arcadia"
          ],
          [
           "Artesia"
          ],
          [
           "Avalon"
          ],
          [
           "Azusa"
          ],
          [
           "Baldwin Park"
          ],
          [
           "Bell"
          ],
          [
           "Bell Gardens"
          ],
          [
           "Bellflower"
          ],
          [
           "Beverly Hills"
          ],
          [
           "Bradbury"
          ],
          [
           "Burbank"
          ],
          [
           "Calabasas"
          ],
          [
           "Carson"
          ],
          [
           "Cerritos"
          ],
          [
           "Claremont"
          ],
          [
           "Commerce"
          ],
          [
           "Compton"
          ],
          [
           "Covina"
          ],
          [
           "Cudahy"
          ],
          [
           "Culver City"
          ],
          [
           "Diamond Bar"
          ],
          [
           "Downey"
          ],
          [
           "Duarte"
          ],
          [
           "El Monte"
          ],
          [
           "El Segundo"
          ],
          [
           "Gardena"
          ],
          [
           "Glendale"
          ],
          [
           "Glendora"
          ],
          [
           "Hawaiian Gardens"
          ],
          [
           "Hawthorne"
          ],
          [
           "Hermosa Beach"
          ],
          [
           "Hidden Hills"
          ],
          [
           "Huntington Park"
          ],
          [
           "Inglewood"
          ],
          [
           "Irwindale"
          ],
          [
           "La Canada Flintridge"
          ],
          [
           "La Habra Heights"
          ],
          [
           "La Mirada"
          ],
          [
           "La Puente"
          ],
          [
           "La Verne"
          ],
          [
           "Lakewood"
          ],
          [
           "Lancaster"
          ],
          [
           "Lawndale"
          ],
          [
           "Lomita"
          ],
          [
           "West Los Angeles"
          ],
          [
           "East Los Angeles"
          ],
          [
           "Lynwood"
          ],
          [
           "Malibu"
          ],
          [
           "Manhattan Beach"
          ],
          [
           "Maywood"
          ],
          [
           "Monrovia"
          ],
          [
           "Monterey Park"
          ],
          [
           "Montebello"
          ],
          [
           "Norwalk"
          ],
          [
           "Palos Verdes Estates"
          ],
          [
           "Paramount"
          ],
          [
           "Pasadena"
          ],
          [
           "Pico Rivera"
          ],
          [
           "Pomona"
          ],
          [
           "Rancho Palos Verdes"
          ],
          [
           "Redondo Beach"
          ],
          [
           "Rolling Hills"
          ],
          [
           "Rolling Hills Estates"
          ],
          [
           "Rosemead"
          ],
          [
           "San Dimas"
          ],
          [
           "San Fernando"
          ],
          [
           "San Gabriel"
          ],
          [
           "San Marino"
          ],
          [
           "Santa Clarita"
          ],
          [
           "Santa Fe Springs"
          ],
          [
           "Santa Monica"
          ],
          [
           "Sierra Madre"
          ],
          [
           "Signal Hill"
          ],
          [
           "South El Monte"
          ],
          [
           "South Gate"
          ],
          [
           "South Pasadena"
          ],
          [
           "Temple City"
          ],
          [
           "Torrance"
          ],
          [
           "Vernon"
          ],
          [
           "Walnut"
          ],
          [
           "West Covina"
          ],
          [
           "West Hollywood"
          ],
          [
           "Westlake Village"
          ],
          [
           "Whittier"
          ]
         ],
         "hovertemplate": "<b>%{hovertext}</b><br><br>Non-white Pop (%)=%{x}<br>Proportion=%{y}<extra></extra>",
         "hovertext": [
          "Agoura Hills",
          "Alhambra",
          "Arcadia",
          "Artesia",
          "Avalon",
          "Azusa",
          "Baldwin Park",
          "Bell",
          "Bell Gardens",
          "Bellflower",
          "Beverly Hills",
          "Bradbury",
          "Burbank",
          "Calabasas",
          "Carson",
          "Cerritos",
          "Claremont",
          "Commerce",
          "Compton",
          "Covina",
          "Cudahy",
          "Culver City",
          "Diamond Bar",
          "Downey",
          "Duarte",
          "El Monte",
          "El Segundo",
          "Gardena",
          "Glendale",
          "Glendora",
          "Hawaiian Gardens",
          "Hawthorne",
          "Hermosa Beach",
          "Hidden Hills",
          "Huntington Park",
          "Inglewood",
          "Irwindale",
          "La Canada Flintridge",
          "La Habra Heights",
          "La Mirada",
          "La Puente",
          "La Verne",
          "Lakewood",
          "Lancaster",
          "Lawndale",
          "Lomita",
          "West Los Angeles",
          "East Los Angeles",
          "Lynwood",
          "Malibu",
          "Manhattan Beach",
          "Maywood",
          "Monrovia",
          "Monterey Park",
          "Montebello",
          "Norwalk",
          "Palos Verdes Estates",
          "Paramount",
          "Pasadena",
          "Pico Rivera",
          "Pomona",
          "Rancho Palos Verdes",
          "Redondo Beach",
          "Rolling Hills",
          "Rolling Hills Estates",
          "Rosemead",
          "San Dimas",
          "San Fernando",
          "San Gabriel",
          "San Marino",
          "Santa Clarita",
          "Santa Fe Springs",
          "Santa Monica",
          "Sierra Madre",
          "Signal Hill",
          "South El Monte",
          "South Gate",
          "South Pasadena",
          "Temple City",
          "Torrance",
          "Vernon",
          "Walnut",
          "West Covina",
          "West Hollywood",
          "Westlake Village",
          "Whittier"
         ],
         "legendgroup": "",
         "marker": {
          "color": "#636efa",
          "symbol": "circle"
         },
         "mode": "markers",
         "name": "",
         "orientation": "v",
         "showlegend": false,
         "type": "scatter",
         "x": [
          26,
          91,
          78,
          85,
          57,
          83,
          96,
          95,
          97,
          84,
          22,
          45,
          43,
          22,
          93,
          86,
          52,
          98,
          99,
          79,
          97,
          53,
          83,
          86,
          90,
          96,
          38,
          96,
          38,
          52,
          94,
          97,
          23,
          19,
          99,
          96,
          91,
          46,
          56,
          68,
          96,
          51,
          66,
          69,
          85,
          61,
          46,
          98,
          98,
          20,
          28,
          99,
          67,
          96,
          93,
          90,
          34,
          95,
          64,
          95,
          89,
          50,
          40,
          29,
          43,
          96,
          54,
          96,
          89,
          72,
          53,
          89,
          36,
          34,
          71,
          98,
          97,
          57,
          85,
          63,
          94,
          90,
          88,
          25,
          22,
          78
         ],
         "xaxis": "x",
         "y": [
          0.1630991716,
          0.1376896822,
          0.1675035495,
          0.1501041977,
          0.06461617989,
          0.279155938,
          0.08844715966,
          0.05287349994,
          0.05365559193,
          0.08808130186,
          0.2507531866,
          0.1328344247,
          0.1147228961,
          0.199029725,
          0.1408264604,
          0.2143727405,
          0.183093959,
          0.08600505012,
          0.04747557655,
          0.1251835536,
          0.0412371134,
          0.1659601154,
          0.1494045032,
          0.104110692,
          0.09033423668,
          0.08211888905,
          0.1201596569,
          0.08801341157,
          0.1265950904,
          0.1534000455,
          0.05519215045,
          0.05966587112,
          0.138993391,
          0.2,
          0.05598144039,
          0.0725114895,
          0.1034955449,
          0.2279031557,
          0.05769230769,
          0.1265146475,
          0.07690984593,
          0.1625803738,
          0.1253079814,
          0.06612613728,
          0.06390194562,
          0.1108591828,
          0.1404772027,
          0.06713552435,
          0.06023845545,
          0.1386467094,
          0.1740881691,
          0.05501087383,
          0.1316494845,
          0.1480035977,
          0.1009087379,
          0.09390273364,
          0.2310309126,
          0.06158185031,
          0.1698525241,
          0.1024827329,
          0.07870147694,
          0.2134184855,
          0.1286227928,
          0.237628866,
          0.2475040059,
          0.1082023487,
          0.1593753622,
          0.07959531936,
          0.1345411926,
          0.2270844317,
          0.1263610133,
          0.1008494881,
          0.1617484802,
          0.2112112112,
          0.1289310842,
          0.07134306919,
          0.06434720595,
          0.176985376,
          0.1481552599,
          0.1491277434,
          0.2200956938,
          0.1830538451,
          0.1334688409,
          0.1167492084,
          0.1136363636,
          0.1118240461
         ],
         "yaxis": "y"
        },
        {
         "hovertemplate": "<b>OLS trendline</b><br>Proportion = -0.00119478 * Non-white Pop (%) + 0.21263<br>R<sup>2</sup>=0.309611<br><br>Non-white Pop (%)=%{x}<br>Proportion=%{y} <b>(trend)</b><extra></extra>",
         "legendgroup": "",
         "marker": {
          "color": "#636efa",
          "symbol": "circle"
         },
         "mode": "lines",
         "name": "",
         "showlegend": false,
         "type": "scatter",
         "x": [
          19,
          20,
          22,
          22,
          22,
          23,
          25,
          26,
          28,
          29,
          34,
          34,
          36,
          38,
          38,
          40,
          43,
          43,
          45,
          46,
          46,
          50,
          51,
          52,
          52,
          53,
          53,
          54,
          56,
          57,
          57,
          61,
          63,
          64,
          66,
          67,
          68,
          69,
          71,
          72,
          78,
          78,
          79,
          83,
          83,
          84,
          85,
          85,
          85,
          86,
          86,
          88,
          89,
          89,
          89,
          90,
          90,
          90,
          91,
          91,
          93,
          93,
          94,
          94,
          95,
          95,
          95,
          96,
          96,
          96,
          96,
          96,
          96,
          96,
          96,
          97,
          97,
          97,
          97,
          98,
          98,
          98,
          98,
          99,
          99,
          99
         ],
         "xaxis": "x",
         "y": [
          0.18992874919644032,
          0.18873396998496353,
          0.1863444115620099,
          0.1863444115620099,
          0.1863444115620099,
          0.1851496323505331,
          0.18276007392757948,
          0.1815652947161027,
          0.17917573629314906,
          0.17798095708167225,
          0.17200706102428823,
          0.17200706102428823,
          0.1696175026013346,
          0.167227944178381,
          0.167227944178381,
          0.1648383857554274,
          0.16125404812099695,
          0.16125404812099695,
          0.15886448969804334,
          0.15766971048656653,
          0.15766971048656653,
          0.1528905936406593,
          0.1516958144291825,
          0.1505010352177057,
          0.1505010352177057,
          0.14930625600622888,
          0.14930625600622888,
          0.1481114767947521,
          0.14572191837179846,
          0.14452713916032164,
          0.14452713916032164,
          0.13974802231441444,
          0.1373584638914608,
          0.13616368467998402,
          0.1337741262570304,
          0.13257934704555357,
          0.1313845678340768,
          0.13018978862259997,
          0.12780023019964637,
          0.12660545098816955,
          0.1194367757193087,
          0.1194367757193087,
          0.1182419965078319,
          0.11346287966192467,
          0.11346287966192467,
          0.11226810045044787,
          0.11107332123897105,
          0.11107332123897105,
          0.11107332123897105,
          0.10987854202749425,
          0.10987854202749425,
          0.10748898360454064,
          0.10629420439306382,
          0.10629420439306382,
          0.10629420439306382,
          0.10509942518158702,
          0.10509942518158702,
          0.10509942518158702,
          0.10390464597011022,
          0.10390464597011022,
          0.1015150875471566,
          0.1015150875471566,
          0.10032030833567979,
          0.10032030833567979,
          0.09912552912420299,
          0.09912552912420299,
          0.09912552912420299,
          0.09793074991272618,
          0.09793074991272618,
          0.09793074991272618,
          0.09793074991272618,
          0.09793074991272618,
          0.09793074991272618,
          0.09793074991272618,
          0.09793074991272618,
          0.09673597070124937,
          0.09673597070124937,
          0.09673597070124937,
          0.09673597070124937,
          0.09554119148977257,
          0.09554119148977257,
          0.09554119148977257,
          0.09554119148977257,
          0.09434641227829575,
          0.09434641227829575,
          0.09434641227829575
         ],
         "yaxis": "y"
        }
       ],
       "layout": {
        "font": {
         "family": "Arial"
        },
        "legend": {
         "tracegroupgap": 0
        },
        "margin": {
         "t": 60
        },
        "template": {
         "data": {
          "bar": [
           {
            "error_x": {
             "color": "#2a3f5f"
            },
            "error_y": {
             "color": "#2a3f5f"
            },
            "marker": {
             "line": {
              "color": "#E5ECF6",
              "width": 0.5
             },
             "pattern": {
              "fillmode": "overlay",
              "size": 10,
              "solidity": 0.2
             }
            },
            "type": "bar"
           }
          ],
          "barpolar": [
           {
            "marker": {
             "line": {
              "color": "#E5ECF6",
              "width": 0.5
             },
             "pattern": {
              "fillmode": "overlay",
              "size": 10,
              "solidity": 0.2
             }
            },
            "type": "barpolar"
           }
          ],
          "carpet": [
           {
            "aaxis": {
             "endlinecolor": "#2a3f5f",
             "gridcolor": "white",
             "linecolor": "white",
             "minorgridcolor": "white",
             "startlinecolor": "#2a3f5f"
            },
            "baxis": {
             "endlinecolor": "#2a3f5f",
             "gridcolor": "white",
             "linecolor": "white",
             "minorgridcolor": "white",
             "startlinecolor": "#2a3f5f"
            },
            "type": "carpet"
           }
          ],
          "choropleth": [
           {
            "colorbar": {
             "outlinewidth": 0,
             "ticks": ""
            },
            "type": "choropleth"
           }
          ],
          "contour": [
           {
            "colorbar": {
             "outlinewidth": 0,
             "ticks": ""
            },
            "colorscale": [
             [
              0,
              "#0d0887"
             ],
             [
              0.1111111111111111,
              "#46039f"
             ],
             [
              0.2222222222222222,
              "#7201a8"
             ],
             [
              0.3333333333333333,
              "#9c179e"
             ],
             [
              0.4444444444444444,
              "#bd3786"
             ],
             [
              0.5555555555555556,
              "#d8576b"
             ],
             [
              0.6666666666666666,
              "#ed7953"
             ],
             [
              0.7777777777777778,
              "#fb9f3a"
             ],
             [
              0.8888888888888888,
              "#fdca26"
             ],
             [
              1,
              "#f0f921"
             ]
            ],
            "type": "contour"
           }
          ],
          "contourcarpet": [
           {
            "colorbar": {
             "outlinewidth": 0,
             "ticks": ""
            },
            "type": "contourcarpet"
           }
          ],
          "heatmap": [
           {
            "colorbar": {
             "outlinewidth": 0,
             "ticks": ""
            },
            "colorscale": [
             [
              0,
              "#0d0887"
             ],
             [
              0.1111111111111111,
              "#46039f"
             ],
             [
              0.2222222222222222,
              "#7201a8"
             ],
             [
              0.3333333333333333,
              "#9c179e"
             ],
             [
              0.4444444444444444,
              "#bd3786"
             ],
             [
              0.5555555555555556,
              "#d8576b"
             ],
             [
              0.6666666666666666,
              "#ed7953"
             ],
             [
              0.7777777777777778,
              "#fb9f3a"
             ],
             [
              0.8888888888888888,
              "#fdca26"
             ],
             [
              1,
              "#f0f921"
             ]
            ],
            "type": "heatmap"
           }
          ],
          "heatmapgl": [
           {
            "colorbar": {
             "outlinewidth": 0,
             "ticks": ""
            },
            "colorscale": [
             [
              0,
              "#0d0887"
             ],
             [
              0.1111111111111111,
              "#46039f"
             ],
             [
              0.2222222222222222,
              "#7201a8"
             ],
             [
              0.3333333333333333,
              "#9c179e"
             ],
             [
              0.4444444444444444,
              "#bd3786"
             ],
             [
              0.5555555555555556,
              "#d8576b"
             ],
             [
              0.6666666666666666,
              "#ed7953"
             ],
             [
              0.7777777777777778,
              "#fb9f3a"
             ],
             [
              0.8888888888888888,
              "#fdca26"
             ],
             [
              1,
              "#f0f921"
             ]
            ],
            "type": "heatmapgl"
           }
          ],
          "histogram": [
           {
            "marker": {
             "pattern": {
              "fillmode": "overlay",
              "size": 10,
              "solidity": 0.2
             }
            },
            "type": "histogram"
           }
          ],
          "histogram2d": [
           {
            "colorbar": {
             "outlinewidth": 0,
             "ticks": ""
            },
            "colorscale": [
             [
              0,
              "#0d0887"
             ],
             [
              0.1111111111111111,
              "#46039f"
             ],
             [
              0.2222222222222222,
              "#7201a8"
             ],
             [
              0.3333333333333333,
              "#9c179e"
             ],
             [
              0.4444444444444444,
              "#bd3786"
             ],
             [
              0.5555555555555556,
              "#d8576b"
             ],
             [
              0.6666666666666666,
              "#ed7953"
             ],
             [
              0.7777777777777778,
              "#fb9f3a"
             ],
             [
              0.8888888888888888,
              "#fdca26"
             ],
             [
              1,
              "#f0f921"
             ]
            ],
            "type": "histogram2d"
           }
          ],
          "histogram2dcontour": [
           {
            "colorbar": {
             "outlinewidth": 0,
             "ticks": ""
            },
            "colorscale": [
             [
              0,
              "#0d0887"
             ],
             [
              0.1111111111111111,
              "#46039f"
             ],
             [
              0.2222222222222222,
              "#7201a8"
             ],
             [
              0.3333333333333333,
              "#9c179e"
             ],
             [
              0.4444444444444444,
              "#bd3786"
             ],
             [
              0.5555555555555556,
              "#d8576b"
             ],
             [
              0.6666666666666666,
              "#ed7953"
             ],
             [
              0.7777777777777778,
              "#fb9f3a"
             ],
             [
              0.8888888888888888,
              "#fdca26"
             ],
             [
              1,
              "#f0f921"
             ]
            ],
            "type": "histogram2dcontour"
           }
          ],
          "mesh3d": [
           {
            "colorbar": {
             "outlinewidth": 0,
             "ticks": ""
            },
            "type": "mesh3d"
           }
          ],
          "parcoords": [
           {
            "line": {
             "colorbar": {
              "outlinewidth": 0,
              "ticks": ""
             }
            },
            "type": "parcoords"
           }
          ],
          "pie": [
           {
            "automargin": true,
            "type": "pie"
           }
          ],
          "scatter": [
           {
            "fillpattern": {
             "fillmode": "overlay",
             "size": 10,
             "solidity": 0.2
            },
            "type": "scatter"
           }
          ],
          "scatter3d": [
           {
            "line": {
             "colorbar": {
              "outlinewidth": 0,
              "ticks": ""
             }
            },
            "marker": {
             "colorbar": {
              "outlinewidth": 0,
              "ticks": ""
             }
            },
            "type": "scatter3d"
           }
          ],
          "scattercarpet": [
           {
            "marker": {
             "colorbar": {
              "outlinewidth": 0,
              "ticks": ""
             }
            },
            "type": "scattercarpet"
           }
          ],
          "scattergeo": [
           {
            "marker": {
             "colorbar": {
              "outlinewidth": 0,
              "ticks": ""
             }
            },
            "type": "scattergeo"
           }
          ],
          "scattergl": [
           {
            "marker": {
             "colorbar": {
              "outlinewidth": 0,
              "ticks": ""
             }
            },
            "type": "scattergl"
           }
          ],
          "scattermapbox": [
           {
            "marker": {
             "colorbar": {
              "outlinewidth": 0,
              "ticks": ""
             }
            },
            "type": "scattermapbox"
           }
          ],
          "scatterpolar": [
           {
            "marker": {
             "colorbar": {
              "outlinewidth": 0,
              "ticks": ""
             }
            },
            "type": "scatterpolar"
           }
          ],
          "scatterpolargl": [
           {
            "marker": {
             "colorbar": {
              "outlinewidth": 0,
              "ticks": ""
             }
            },
            "type": "scatterpolargl"
           }
          ],
          "scatterternary": [
           {
            "marker": {
             "colorbar": {
              "outlinewidth": 0,
              "ticks": ""
             }
            },
            "type": "scatterternary"
           }
          ],
          "surface": [
           {
            "colorbar": {
             "outlinewidth": 0,
             "ticks": ""
            },
            "colorscale": [
             [
              0,
              "#0d0887"
             ],
             [
              0.1111111111111111,
              "#46039f"
             ],
             [
              0.2222222222222222,
              "#7201a8"
             ],
             [
              0.3333333333333333,
              "#9c179e"
             ],
             [
              0.4444444444444444,
              "#bd3786"
             ],
             [
              0.5555555555555556,
              "#d8576b"
             ],
             [
              0.6666666666666666,
              "#ed7953"
             ],
             [
              0.7777777777777778,
              "#fb9f3a"
             ],
             [
              0.8888888888888888,
              "#fdca26"
             ],
             [
              1,
              "#f0f921"
             ]
            ],
            "type": "surface"
           }
          ],
          "table": [
           {
            "cells": {
             "fill": {
              "color": "#EBF0F8"
             },
             "line": {
              "color": "white"
             }
            },
            "header": {
             "fill": {
              "color": "#C8D4E3"
             },
             "line": {
              "color": "white"
             }
            },
            "type": "table"
           }
          ]
         },
         "layout": {
          "annotationdefaults": {
           "arrowcolor": "#2a3f5f",
           "arrowhead": 0,
           "arrowwidth": 1
          },
          "autotypenumbers": "strict",
          "coloraxis": {
           "colorbar": {
            "outlinewidth": 0,
            "ticks": ""
           }
          },
          "colorscale": {
           "diverging": [
            [
             0,
             "#8e0152"
            ],
            [
             0.1,
             "#c51b7d"
            ],
            [
             0.2,
             "#de77ae"
            ],
            [
             0.3,
             "#f1b6da"
            ],
            [
             0.4,
             "#fde0ef"
            ],
            [
             0.5,
             "#f7f7f7"
            ],
            [
             0.6,
             "#e6f5d0"
            ],
            [
             0.7,
             "#b8e186"
            ],
            [
             0.8,
             "#7fbc41"
            ],
            [
             0.9,
             "#4d9221"
            ],
            [
             1,
             "#276419"
            ]
           ],
           "sequential": [
            [
             0,
             "#0d0887"
            ],
            [
             0.1111111111111111,
             "#46039f"
            ],
            [
             0.2222222222222222,
             "#7201a8"
            ],
            [
             0.3333333333333333,
             "#9c179e"
            ],
            [
             0.4444444444444444,
             "#bd3786"
            ],
            [
             0.5555555555555556,
             "#d8576b"
            ],
            [
             0.6666666666666666,
             "#ed7953"
            ],
            [
             0.7777777777777778,
             "#fb9f3a"
            ],
            [
             0.8888888888888888,
             "#fdca26"
            ],
            [
             1,
             "#f0f921"
            ]
           ],
           "sequentialminus": [
            [
             0,
             "#0d0887"
            ],
            [
             0.1111111111111111,
             "#46039f"
            ],
            [
             0.2222222222222222,
             "#7201a8"
            ],
            [
             0.3333333333333333,
             "#9c179e"
            ],
            [
             0.4444444444444444,
             "#bd3786"
            ],
            [
             0.5555555555555556,
             "#d8576b"
            ],
            [
             0.6666666666666666,
             "#ed7953"
            ],
            [
             0.7777777777777778,
             "#fb9f3a"
            ],
            [
             0.8888888888888888,
             "#fdca26"
            ],
            [
             1,
             "#f0f921"
            ]
           ]
          },
          "colorway": [
           "#636efa",
           "#EF553B",
           "#00cc96",
           "#ab63fa",
           "#FFA15A",
           "#19d3f3",
           "#FF6692",
           "#B6E880",
           "#FF97FF",
           "#FECB52"
          ],
          "font": {
           "color": "#2a3f5f"
          },
          "geo": {
           "bgcolor": "white",
           "lakecolor": "white",
           "landcolor": "#E5ECF6",
           "showlakes": true,
           "showland": true,
           "subunitcolor": "white"
          },
          "hoverlabel": {
           "align": "left"
          },
          "hovermode": "closest",
          "mapbox": {
           "style": "light"
          },
          "paper_bgcolor": "white",
          "plot_bgcolor": "#E5ECF6",
          "polar": {
           "angularaxis": {
            "gridcolor": "white",
            "linecolor": "white",
            "ticks": ""
           },
           "bgcolor": "#E5ECF6",
           "radialaxis": {
            "gridcolor": "white",
            "linecolor": "white",
            "ticks": ""
           }
          },
          "scene": {
           "xaxis": {
            "backgroundcolor": "#E5ECF6",
            "gridcolor": "white",
            "gridwidth": 2,
            "linecolor": "white",
            "showbackground": true,
            "ticks": "",
            "zerolinecolor": "white"
           },
           "yaxis": {
            "backgroundcolor": "#E5ECF6",
            "gridcolor": "white",
            "gridwidth": 2,
            "linecolor": "white",
            "showbackground": true,
            "ticks": "",
            "zerolinecolor": "white"
           },
           "zaxis": {
            "backgroundcolor": "#E5ECF6",
            "gridcolor": "white",
            "gridwidth": 2,
            "linecolor": "white",
            "showbackground": true,
            "ticks": "",
            "zerolinecolor": "white"
           }
          },
          "shapedefaults": {
           "line": {
            "color": "#2a3f5f"
           }
          },
          "ternary": {
           "aaxis": {
            "gridcolor": "white",
            "linecolor": "white",
            "ticks": ""
           },
           "baxis": {
            "gridcolor": "white",
            "linecolor": "white",
            "ticks": ""
           },
           "bgcolor": "#E5ECF6",
           "caxis": {
            "gridcolor": "white",
            "linecolor": "white",
            "ticks": ""
           }
          },
          "title": {
           "x": 0.05
          },
          "xaxis": {
           "automargin": true,
           "gridcolor": "white",
           "linecolor": "white",
           "ticks": "",
           "title": {
            "standoff": 15
           },
           "zerolinecolor": "white",
           "zerolinewidth": 2
          },
          "yaxis": {
           "automargin": true,
           "gridcolor": "white",
           "linecolor": "white",
           "ticks": "",
           "title": {
            "standoff": 15
           },
           "zerolinecolor": "white",
           "zerolinewidth": 2
          }
         }
        },
        "title": {
         "font": {
          "size": 22
         },
         "text": "<b>Non-white Population vs. Proportion of the City's Population Been Vaccinated<b><br><sup>Vaccination Data: Feb 14, 2021</sup>",
         "x": 0.5
        },
        "xaxis": {
         "anchor": "y",
         "domain": [
          0,
          1
         ],
         "title": {
          "font": {
           "size": 16
          },
          "text": "<b>Non-White Population in City (%)</b>"
         }
        },
        "yaxis": {
         "anchor": "x",
         "domain": [
          0,
          1
         ],
         "title": {
          "font": {
           "size": 16
          },
          "text": "<b>Proportion of the City's Population <br><sub>Been Vaccinated<sub></b>"
         }
        }
       }
      },
      "image/png": "[encoded data removed]",
      "text/html": [
       "<div>                            <div id=\"20335322-8ade-478d-aed2-5969a28d3902\" class=\"plotly-graph-div\" style=\"height:525px; width:100%;\"></div>            <script type=\"text/javascript\">                require([\"plotly\"], function(Plotly) {                    window.PLOTLYENV=window.PLOTLYENV || {};                                    if (document.getElementById(\"20335322-8ade-478d-aed2-5969a28d3902\")) {                    Plotly.newPlot(                        \"20335322-8ade-478d-aed2-5969a28d3902\",                        [{\"customdata\":[[\"Agoura Hills\"],[\"Alhambra\"],[\"Arcadia\"],[\"Artesia\"],[\"Avalon\"],[\"Azusa\"],[\"Baldwin Park\"],[\"Bell\"],[\"Bell Gardens\"],[\"Bellflower\"],[\"Beverly Hills\"],[\"Bradbury\"],[\"Burbank\"],[\"Calabasas\"],[\"Carson\"],[\"Cerritos\"],[\"Claremont\"],[\"Commerce\"],[\"Compton\"],[\"Covina\"],[\"Cudahy\"],[\"Culver City\"],[\"Diamond Bar\"],[\"Downey\"],[\"Duarte\"],[\"El Monte\"],[\"El Segundo\"],[\"Gardena\"],[\"Glendale\"],[\"Glendora\"],[\"Hawaiian Gardens\"],[\"Hawthorne\"],[\"Hermosa Beach\"],[\"Hidden Hills\"],[\"Huntington Park\"],[\"Inglewood\"],[\"Irwindale\"],[\"La Canada Flintridge\"],[\"La Habra Heights\"],[\"La Mirada\"],[\"La Puente\"],[\"La Verne\"],[\"Lakewood\"],[\"Lancaster\"],[\"Lawndale\"],[\"Lomita\"],[\"West Los Angeles\"],[\"East Los Angeles\"],[\"Lynwood\"],[\"Malibu\"],[\"Manhattan Beach\"],[\"Maywood\"],[\"Monrovia\"],[\"Monterey Park\"],[\"Montebello\"],[\"Norwalk\"],[\"Palos Verdes Estates\"],[\"Paramount\"],[\"Pasadena\"],[\"Pico Rivera\"],[\"Pomona\"],[\"Rancho Palos Verdes\"],[\"Redondo Beach\"],[\"Rolling Hills\"],[\"Rolling Hills Estates\"],[\"Rosemead\"],[\"San Dimas\"],[\"San Fernando\"],[\"San Gabriel\"],[\"San Marino\"],[\"Santa Clarita\"],[\"Santa Fe Springs\"],[\"Santa Monica\"],[\"Sierra Madre\"],[\"Signal Hill\"],[\"South El Monte\"],[\"South Gate\"],[\"South Pasadena\"],[\"Temple City\"],[\"Torrance\"],[\"Vernon\"],[\"Walnut\"],[\"West Covina\"],[\"West Hollywood\"],[\"Westlake Village\"],[\"Whittier\"]],\"hovertemplate\":\"\\u003cb\\u003e%{hovertext}\\u003c\\u002fb\\u003e\\u003cbr\\u003e\\u003cbr\\u003eNon-white Pop (%)=%{x}\\u003cbr\\u003eProportion=%{y}\\u003cextra\\u003e\\u003c\\u002fextra\\u003e\",\"hovertext\":[\"Agoura Hills\",\"Alhambra\",\"Arcadia\",\"Artesia\",\"Avalon\",\"Azusa\",\"Baldwin Park\",\"Bell\",\"Bell Gardens\",\"Bellflower\",\"Beverly Hills\",\"Bradbury\",\"Burbank\",\"Calabasas\",\"Carson\",\"Cerritos\",\"Claremont\",\"Commerce\",\"Compton\",\"Covina\",\"Cudahy\",\"Culver City\",\"Diamond Bar\",\"Downey\",\"Duarte\",\"El Monte\",\"El Segundo\",\"Gardena\",\"Glendale\",\"Glendora\",\"Hawaiian Gardens\",\"Hawthorne\",\"Hermosa Beach\",\"Hidden Hills\",\"Huntington Park\",\"Inglewood\",\"Irwindale\",\"La Canada Flintridge\",\"La Habra Heights\",\"La Mirada\",\"La Puente\",\"La Verne\",\"Lakewood\",\"Lancaster\",\"Lawndale\",\"Lomita\",\"West Los Angeles\",\"East Los Angeles\",\"Lynwood\",\"Malibu\",\"Manhattan Beach\",\"Maywood\",\"Monrovia\",\"Monterey Park\",\"Montebello\",\"Norwalk\",\"Palos Verdes Estates\",\"Paramount\",\"Pasadena\",\"Pico Rivera\",\"Pomona\",\"Rancho Palos Verdes\",\"Redondo Beach\",\"Rolling Hills\",\"Rolling Hills Estates\",\"Rosemead\",\"San Dimas\",\"San Fernando\",\"San Gabriel\",\"San Marino\",\"Santa Clarita\",\"Santa Fe Springs\",\"Santa Monica\",\"Sierra Madre\",\"Signal Hill\",\"South El Monte\",\"South Gate\",\"South Pasadena\",\"Temple City\",\"Torrance\",\"Vernon\",\"Walnut\",\"West Covina\",\"West Hollywood\",\"Westlake Village\",\"Whittier\"],\"legendgroup\":\"\",\"marker\":{\"color\":\"#636efa\",\"symbol\":\"circle\"},\"mode\":\"markers\",\"name\":\"\",\"orientation\":\"v\",\"showlegend\":false,\"x\":[26,91,78,85,57,83,96,95,97,84,22,45,43,22,93,86,52,98,99,79,97,53,83,86,90,96,38,96,38,52,94,97,23,19,99,96,91,46,56,68,96,51,66,69,85,61,46,98,98,20,28,99,67,96,93,90,34,95,64,95,89,50,40,29,43,96,54,96,89,72,53,89,36,34,71,98,97,57,85,63,94,90,88,25,22,78],\"xaxis\":\"x\",\"y\":[0.1630991716,0.1376896822,0.1675035495,0.1501041977,0.06461617989,0.279155938,0.08844715966,0.05287349994,0.05365559193,0.08808130186,0.2507531866,0.1328344247,0.1147228961,0.199029725,0.1408264604,0.2143727405,0.183093959,0.08600505012,0.04747557655,0.1251835536,0.0412371134,0.1659601154,0.1494045032,0.104110692,0.09033423668,0.08211888905,0.1201596569,0.08801341157,0.1265950904,0.1534000455,0.05519215045,0.05966587112,0.138993391,0.2,0.05598144039,0.0725114895,0.1034955449,0.2279031557,0.05769230769,0.1265146475,0.07690984593,0.1625803738,0.1253079814,0.06612613728,0.06390194562,0.1108591828,0.1404772027,0.06713552435,0.06023845545,0.1386467094,0.1740881691,0.05501087383,0.1316494845,0.1480035977,0.1009087379,0.09390273364,0.2310309126,0.06158185031,0.1698525241,0.1024827329,0.07870147694,0.2134184855,0.1286227928,0.237628866,0.2475040059,0.1082023487,0.1593753622,0.07959531936,0.1345411926,0.2270844317,0.1263610133,0.1008494881,0.1617484802,0.2112112112,0.1289310842,0.07134306919,0.06434720595,0.176985376,0.1481552599,0.1491277434,0.2200956938,0.1830538451,0.1334688409,0.1167492084,0.1136363636,0.1118240461],\"yaxis\":\"y\",\"type\":\"scatter\"},{\"hovertemplate\":\"\\u003cb\\u003eOLS trendline\\u003c\\u002fb\\u003e\\u003cbr\\u003eProportion = -0.00119478 * Non-white Pop (%) + 0.21263\\u003cbr\\u003eR\\u003csup\\u003e2\\u003c\\u002fsup\\u003e=0.309611\\u003cbr\\u003e\\u003cbr\\u003eNon-white Pop (%)=%{x}\\u003cbr\\u003eProportion=%{y} \\u003cb\\u003e(trend)\\u003c\\u002fb\\u003e\\u003cextra\\u003e\\u003c\\u002fextra\\u003e\",\"legendgroup\":\"\",\"marker\":{\"color\":\"#636efa\",\"symbol\":\"circle\"},\"mode\":\"lines\",\"name\":\"\",\"showlegend\":false,\"x\":[19,20,22,22,22,23,25,26,28,29,34,34,36,38,38,40,43,43,45,46,46,50,51,52,52,53,53,54,56,57,57,61,63,64,66,67,68,69,71,72,78,78,79,83,83,84,85,85,85,86,86,88,89,89,89,90,90,90,91,91,93,93,94,94,95,95,95,96,96,96,96,96,96,96,96,97,97,97,97,98,98,98,98,99,99,99],\"xaxis\":\"x\",\"y\":[0.18992874919644032,0.18873396998496353,0.1863444115620099,0.1863444115620099,0.1863444115620099,0.1851496323505331,0.18276007392757948,0.1815652947161027,0.17917573629314906,0.17798095708167225,0.17200706102428823,0.17200706102428823,0.1696175026013346,0.167227944178381,0.167227944178381,0.1648383857554274,0.16125404812099695,0.16125404812099695,0.15886448969804334,0.15766971048656653,0.15766971048656653,0.1528905936406593,0.1516958144291825,0.1505010352177057,0.1505010352177057,0.14930625600622888,0.14930625600622888,0.1481114767947521,0.14572191837179846,0.14452713916032164,0.14452713916032164,0.13974802231441444,0.1373584638914608,0.13616368467998402,0.1337741262570304,0.13257934704555357,0.1313845678340768,0.13018978862259997,0.12780023019964637,0.12660545098816955,0.1194367757193087,0.1194367757193087,0.1182419965078319,0.11346287966192467,0.11346287966192467,0.11226810045044787,0.11107332123897105,0.11107332123897105,0.11107332123897105,0.10987854202749425,0.10987854202749425,0.10748898360454064,0.10629420439306382,0.10629420439306382,0.10629420439306382,0.10509942518158702,0.10509942518158702,0.10509942518158702,0.10390464597011022,0.10390464597011022,0.1015150875471566,0.1015150875471566,0.10032030833567979,0.10032030833567979,0.09912552912420299,0.09912552912420299,0.09912552912420299,0.09793074991272618,0.09793074991272618,0.09793074991272618,0.09793074991272618,0.09793074991272618,0.09793074991272618,0.09793074991272618,0.09793074991272618,0.09673597070124937,0.09673597070124937,0.09673597070124937,0.09673597070124937,0.09554119148977257,0.09554119148977257,0.09554119148977257,0.09554119148977257,0.09434641227829575,0.09434641227829575,0.09434641227829575],\"yaxis\":\"y\",\"type\":\"scatter\"}],                        {\"template\":{\"data\":{\"histogram2dcontour\":[{\"type\":\"histogram2dcontour\",\"colorbar\":{\"outlinewidth\":0,\"ticks\":\"\"},\"colorscale\":[[0.0,\"#0d0887\"],[0.1111111111111111,\"#46039f\"],[0.2222222222222222,\"#7201a8\"],[0.3333333333333333,\"#9c179e\"],[0.4444444444444444,\"#bd3786\"],[0.5555555555555556,\"#d8576b\"],[0.6666666666666666,\"#ed7953\"],[0.7777777777777778,\"#fb9f3a\"],[0.8888888888888888,\"#fdca26\"],[1.0,\"#f0f921\"]]}],\"choropleth\":[{\"type\":\"choropleth\",\"colorbar\":{\"outlinewidth\":0,\"ticks\":\"\"}}],\"histogram2d\":[{\"type\":\"histogram2d\",\"colorbar\":{\"outlinewidth\":0,\"ticks\":\"\"},\"colorscale\":[[0.0,\"#0d0887\"],[0.1111111111111111,\"#46039f\"],[0.2222222222222222,\"#7201a8\"],[0.3333333333333333,\"#9c179e\"],[0.4444444444444444,\"#bd3786\"],[0.5555555555555556,\"#d8576b\"],[0.6666666666666666,\"#ed7953\"],[0.7777777777777778,\"#fb9f3a\"],[0.8888888888888888,\"#fdca26\"],[1.0,\"#f0f921\"]]}],\"heatmap\":[{\"type\":\"heatmap\",\"colorbar\":{\"outlinewidth\":0,\"ticks\":\"\"},\"colorscale\":[[0.0,\"#0d0887\"],[0.1111111111111111,\"#46039f\"],[0.2222222222222222,\"#7201a8\"],[0.3333333333333333,\"#9c179e\"],[0.4444444444444444,\"#bd3786\"],[0.5555555555555556,\"#d8576b\"],[0.6666666666666666,\"#ed7953\"],[0.7777777777777778,\"#fb9f3a\"],[0.8888888888888888,\"#fdca26\"],[1.0,\"#f0f921\"]]}],\"heatmapgl\":[{\"type\":\"heatmapgl\",\"colorbar\":{\"outlinewidth\":0,\"ticks\":\"\"},\"colorscale\":[[0.0,\"#0d0887\"],[0.1111111111111111,\"#46039f\"],[0.2222222222222222,\"#7201a8\"],[0.3333333333333333,\"#9c179e\"],[0.4444444444444444,\"#bd3786\"],[0.5555555555555556,\"#d8576b\"],[0.6666666666666666,\"#ed7953\"],[0.7777777777777778,\"#fb9f3a\"],[0.8888888888888888,\"#fdca26\"],[1.0,\"#f0f921\"]]}],\"contourcarpet\":[{\"type\":\"contourcarpet\",\"colorbar\":{\"outlinewidth\":0,\"ticks\":\"\"}}],\"contour\":[{\"type\":\"contour\",\"colorbar\":{\"outlinewidth\":0,\"ticks\":\"\"},\"colorscale\":[[0.0,\"#0d0887\"],[0.1111111111111111,\"#46039f\"],[0.2222222222222222,\"#7201a8\"],[0.3333333333333333,\"#9c179e\"],[0.4444444444444444,\"#bd3786\"],[0.5555555555555556,\"#d8576b\"],[0.6666666666666666,\"#ed7953\"],[0.7777777777777778,\"#fb9f3a\"],[0.8888888888888888,\"#fdca26\"],[1.0,\"#f0f921\"]]}],\"surface\":[{\"type\":\"surface\",\"colorbar\":{\"outlinewidth\":0,\"ticks\":\"\"},\"colorscale\":[[0.0,\"#0d0887\"],[0.1111111111111111,\"#46039f\"],[0.2222222222222222,\"#7201a8\"],[0.3333333333333333,\"#9c179e\"],[0.4444444444444444,\"#bd3786\"],[0.5555555555555556,\"#d8576b\"],[0.6666666666666666,\"#ed7953\"],[0.7777777777777778,\"#fb9f3a\"],[0.8888888888888888,\"#fdca26\"],[1.0,\"#f0f921\"]]}],\"mesh3d\":[{\"type\":\"mesh3d\",\"colorbar\":{\"outlinewidth\":0,\"ticks\":\"\"}}],\"scatter\":[{\"fillpattern\":{\"fillmode\":\"overlay\",\"size\":10,\"solidity\":0.2},\"type\":\"scatter\"}],\"parcoords\":[{\"type\":\"parcoords\",\"line\":{\"colorbar\":{\"outlinewidth\":0,\"ticks\":\"\"}}}],\"scatterpolargl\":[{\"type\":\"scatterpolargl\",\"marker\":{\"colorbar\":{\"outlinewidth\":0,\"ticks\":\"\"}}}],\"bar\":[{\"error_x\":{\"color\":\"#2a3f5f\"},\"error_y\":{\"color\":\"#2a3f5f\"},\"marker\":{\"line\":{\"color\":\"#E5ECF6\",\"width\":0.5},\"pattern\":{\"fillmode\":\"overlay\",\"size\":10,\"solidity\":0.2}},\"type\":\"bar\"}],\"scattergeo\":[{\"type\":\"scattergeo\",\"marker\":{\"colorbar\":{\"outlinewidth\":0,\"ticks\":\"\"}}}],\"scatterpolar\":[{\"type\":\"scatterpolar\",\"marker\":{\"colorbar\":{\"outlinewidth\":0,\"ticks\":\"\"}}}],\"histogram\":[{\"marker\":{\"pattern\":{\"fillmode\":\"overlay\",\"size\":10,\"solidity\":0.2}},\"type\":\"histogram\"}],\"scattergl\":[{\"type\":\"scattergl\",\"marker\":{\"colorbar\":{\"outlinewidth\":0,\"ticks\":\"\"}}}],\"scatter3d\":[{\"type\":\"scatter3d\",\"line\":{\"colorbar\":{\"outlinewidth\":0,\"ticks\":\"\"}},\"marker\":{\"colorbar\":{\"outlinewidth\":0,\"ticks\":\"\"}}}],\"scattermapbox\":[{\"type\":\"scattermapbox\",\"marker\":{\"colorbar\":{\"outlinewidth\":0,\"ticks\":\"\"}}}],\"scatterternary\":[{\"type\":\"scatterternary\",\"marker\":{\"colorbar\":{\"outlinewidth\":0,\"ticks\":\"\"}}}],\"scattercarpet\":[{\"type\":\"scattercarpet\",\"marker\":{\"colorbar\":{\"outlinewidth\":0,\"ticks\":\"\"}}}],\"carpet\":[{\"aaxis\":{\"endlinecolor\":\"#2a3f5f\",\"gridcolor\":\"white\",\"linecolor\":\"white\",\"minorgridcolor\":\"white\",\"startlinecolor\":\"#2a3f5f\"},\"baxis\":{\"endlinecolor\":\"#2a3f5f\",\"gridcolor\":\"white\",\"linecolor\":\"white\",\"minorgridcolor\":\"white\",\"startlinecolor\":\"#2a3f5f\"},\"type\":\"carpet\"}],\"table\":[{\"cells\":{\"fill\":{\"color\":\"#EBF0F8\"},\"line\":{\"color\":\"white\"}},\"header\":{\"fill\":{\"color\":\"#C8D4E3\"},\"line\":{\"color\":\"white\"}},\"type\":\"table\"}],\"barpolar\":[{\"marker\":{\"line\":{\"color\":\"#E5ECF6\",\"width\":0.5},\"pattern\":{\"fillmode\":\"overlay\",\"size\":10,\"solidity\":0.2}},\"type\":\"barpolar\"}],\"pie\":[{\"automargin\":true,\"type\":\"pie\"}]},\"layout\":{\"autotypenumbers\":\"strict\",\"colorway\":[\"#636efa\",\"#EF553B\",\"#00cc96\",\"#ab63fa\",\"#FFA15A\",\"#19d3f3\",\"#FF6692\",\"#B6E880\",\"#FF97FF\",\"#FECB52\"],\"font\":{\"color\":\"#2a3f5f\"},\"hovermode\":\"closest\",\"hoverlabel\":{\"align\":\"left\"},\"paper_bgcolor\":\"white\",\"plot_bgcolor\":\"#E5ECF6\",\"polar\":{\"bgcolor\":\"#E5ECF6\",\"angularaxis\":{\"gridcolor\":\"white\",\"linecolor\":\"white\",\"ticks\":\"\"},\"radialaxis\":{\"gridcolor\":\"white\",\"linecolor\":\"white\",\"ticks\":\"\"}},\"ternary\":{\"bgcolor\":\"#E5ECF6\",\"aaxis\":{\"gridcolor\":\"white\",\"linecolor\":\"white\",\"ticks\":\"\"},\"baxis\":{\"gridcolor\":\"white\",\"linecolor\":\"white\",\"ticks\":\"\"},\"caxis\":{\"gridcolor\":\"white\",\"linecolor\":\"white\",\"ticks\":\"\"}},\"coloraxis\":{\"colorbar\":{\"outlinewidth\":0,\"ticks\":\"\"}},\"colorscale\":{\"sequential\":[[0.0,\"#0d0887\"],[0.1111111111111111,\"#46039f\"],[0.2222222222222222,\"#7201a8\"],[0.3333333333333333,\"#9c179e\"],[0.4444444444444444,\"#bd3786\"],[0.5555555555555556,\"#d8576b\"],[0.6666666666666666,\"#ed7953\"],[0.7777777777777778,\"#fb9f3a\"],[0.8888888888888888,\"#fdca26\"],[1.0,\"#f0f921\"]],\"sequentialminus\":[[0.0,\"#0d0887\"],[0.1111111111111111,\"#46039f\"],[0.2222222222222222,\"#7201a8\"],[0.3333333333333333,\"#9c179e\"],[0.4444444444444444,\"#bd3786\"],[0.5555555555555556,\"#d8576b\"],[0.6666666666666666,\"#ed7953\"],[0.7777777777777778,\"#fb9f3a\"],[0.8888888888888888,\"#fdca26\"],[1.0,\"#f0f921\"]],\"diverging\":[[0,\"#8e0152\"],[0.1,\"#c51b7d\"],[0.2,\"#de77ae\"],[0.3,\"#f1b6da\"],[0.4,\"#fde0ef\"],[0.5,\"#f7f7f7\"],[0.6,\"#e6f5d0\"],[0.7,\"#b8e186\"],[0.8,\"#7fbc41\"],[0.9,\"#4d9221\"],[1,\"#276419\"]]},\"xaxis\":{\"gridcolor\":\"white\",\"linecolor\":\"white\",\"ticks\":\"\",\"title\":{\"standoff\":15},\"zerolinecolor\":\"white\",\"automargin\":true,\"zerolinewidth\":2},\"yaxis\":{\"gridcolor\":\"white\",\"linecolor\":\"white\",\"ticks\":\"\",\"title\":{\"standoff\":15},\"zerolinecolor\":\"white\",\"automargin\":true,\"zerolinewidth\":2},\"scene\":{\"xaxis\":{\"backgroundcolor\":\"#E5ECF6\",\"gridcolor\":\"white\",\"linecolor\":\"white\",\"showbackground\":true,\"ticks\":\"\",\"zerolinecolor\":\"white\",\"gridwidth\":2},\"yaxis\":{\"backgroundcolor\":\"#E5ECF6\",\"gridcolor\":\"white\",\"linecolor\":\"white\",\"showbackground\":true,\"ticks\":\"\",\"zerolinecolor\":\"white\",\"gridwidth\":2},\"zaxis\":{\"backgroundcolor\":\"#E5ECF6\",\"gridcolor\":\"white\",\"linecolor\":\"white\",\"showbackground\":true,\"ticks\":\"\",\"zerolinecolor\":\"white\",\"gridwidth\":2}},\"shapedefaults\":{\"line\":{\"color\":\"#2a3f5f\"}},\"annotationdefaults\":{\"arrowcolor\":\"#2a3f5f\",\"arrowhead\":0,\"arrowwidth\":1},\"geo\":{\"bgcolor\":\"white\",\"landcolor\":\"#E5ECF6\",\"subunitcolor\":\"white\",\"showland\":true,\"showlakes\":true,\"lakecolor\":\"white\"},\"title\":{\"x\":0.05},\"mapbox\":{\"style\":\"light\"}}},\"xaxis\":{\"anchor\":\"y\",\"domain\":[0.0,1.0],\"title\":{\"text\":\"\\u003cb\\u003eNon-White Population in City (%)\\u003c\\u002fb\\u003e\",\"font\":{\"size\":16}}},\"yaxis\":{\"anchor\":\"x\",\"domain\":[0.0,1.0],\"title\":{\"text\":\"\\u003cb\\u003eProportion of the City's Population \\u003cbr\\u003e\\u003csub\\u003eBeen Vaccinated\\u003csub\\u003e\\u003c\\u002fb\\u003e\",\"font\":{\"size\":16}}},\"legend\":{\"tracegroupgap\":0},\"margin\":{\"t\":60},\"font\":{\"family\":\"Arial\"},\"title\":{\"text\":\"\\u003cb\\u003eNon-white Population vs. Proportion of the City's Population Been Vaccinated\\u003cb\\u003e\\u003cbr\\u003e\\u003csup\\u003eVaccination Data: Feb 14, 2021\\u003c\\u002fsup\\u003e\",\"x\":0.5,\"font\":{\"size\":22}}},                        {\"responsive\": true}                    ).then(function(){\n",
       "                            \n",
       "var gd = document.getElementById('20335322-8ade-478d-aed2-5969a28d3902');\n",
       "var x = new MutationObserver(function (mutations, observer) {{\n",
       "        var display = window.getComputedStyle(gd).display;\n",
       "        if (!display || display === 'none') {{\n",
       "            console.log([gd, 'removed!']);\n",
       "            Plotly.purge(gd);\n",
       "            observer.disconnect();\n",
       "        }}\n",
       "}});\n",
       "\n",
       "// Listen for the removal of the full notebook cells\n",
       "var notebookContainer = gd.closest('#notebook-container');\n",
       "if (notebookContainer) {{\n",
       "    x.observe(notebookContainer, {childList: true});\n",
       "}}\n",
       "\n",
       "// Listen for the clearing of the current output cell\n",
       "var outputEl = gd.closest('.output');\n",
       "if (outputEl) {{\n",
       "    x.observe(outputEl, {childList: true});\n",
       "}}\n",
       "\n",
       "                        })                };                });            </script>        </div>"
      ]
     },
     "metadata": {},
     "output_type": "display_data"
    }
   ],
   "source": [
    "fig = px.scatter(\n",
    "    data,\n",
    "    x = \"Non-white Pop (%)\",\n",
    "    y = \"Proportion\",\n",
    "    trendline=\"ols\",\n",
    "    hover_name=\"City\",\n",
    "    hover_data={\n",
    "        \"City\": False,\n",
    "        \"Non-white Pop (%)\": True,\n",
    "        \"Proportion\": True,\n",
    "    }\n",
    ")\n",
    "\n",
    "fig.update_layout(\n",
    "    xaxis_title=\"<b>Non-White Population in City (%)</b>\",\n",
    "    yaxis_title=\"<b>Proportion of the City's Population <br><sub>Been Vaccinated<sub></b>\",\n",
    "    font=dict(family=\"Arial\"),\n",
    "    title = \"<b>Non-white Population vs. Proportion of the City's Population Been Vaccinated<b><br><sup>Vaccination Data: Feb 14, 2021</sup>\",\n",
    "    title_x = 0.5,\n",
    "    xaxis_title_font=dict(size=16), \n",
    "    yaxis_title_font=dict(size=16),\n",
    "    title_font=dict(size=22)\n",
    ")\n",
    "fig.show()\n",
    "fig.write_html(\"racial_plot.html\")"
   ]
  },
  {
   "cell_type": "code",
   "execution_count": 11,
   "id": "909474c1-aca9-496a-bc40-b1b98d29dc8e",
   "metadata": {},
   "outputs": [
    {
     "data": {
      "text/html": [
       "<div>\n",
       "<style scoped>\n",
       "    .dataframe tbody tr th:only-of-type {\n",
       "        vertical-align: middle;\n",
       "    }\n",
       "\n",
       "    .dataframe tbody tr th {\n",
       "        vertical-align: top;\n",
       "    }\n",
       "\n",
       "    .dataframe thead th {\n",
       "        text-align: right;\n",
       "    }\n",
       "</style>\n",
       "<table border=\"1\" class=\"dataframe\">\n",
       "  <thead>\n",
       "    <tr style=\"text-align: right;\">\n",
       "      <th></th>\n",
       "      <th>Racial Group</th>\n",
       "      <th>% of Population (Age 5+) Being Vaccinated</th>\n",
       "    </tr>\n",
       "  </thead>\n",
       "  <tbody>\n",
       "    <tr>\n",
       "      <th>0</th>\n",
       "      <td>Black/African American</td>\n",
       "      <td>61%</td>\n",
       "    </tr>\n",
       "    <tr>\n",
       "      <th>1</th>\n",
       "      <td>Latinx</td>\n",
       "      <td>64%</td>\n",
       "    </tr>\n",
       "    <tr>\n",
       "      <th>2</th>\n",
       "      <td>White</td>\n",
       "      <td>79%</td>\n",
       "    </tr>\n",
       "    <tr>\n",
       "      <th>3</th>\n",
       "      <td>American Indian/Alaska Native</td>\n",
       "      <td>83%</td>\n",
       "    </tr>\n",
       "    <tr>\n",
       "      <th>4</th>\n",
       "      <td>Asian</td>\n",
       "      <td>88%</td>\n",
       "    </tr>\n",
       "  </tbody>\n",
       "</table>\n",
       "</div>"
      ],
      "text/plain": [
       "                    Racial Group % of Population (Age 5+) Being Vaccinated\n",
       "0         Black/African American                                       61%\n",
       "1                         Latinx                                       64%\n",
       "2                          White                                       79%\n",
       "3  American Indian/Alaska Native                                       83%\n",
       "4                          Asian                                       88%"
      ]
     },
     "execution_count": 11,
     "metadata": {},
     "output_type": "execute_result"
    }
   ],
   "source": [
    "import matplotlib.pyplot as plt\n",
    "data_overall = pd.read_csv(\"racial_overall.csv\")\n",
    "data_overall"
   ]
  }
 ],
 "metadata": {
  "kernelspec": {
   "display_name": "Python [conda env:base] *",
   "language": "python",
   "name": "conda-base-py"
  },
  "language_info": {
   "codemirror_mode": {
    "name": "ipython",
    "version": 3
   },
   "file_extension": ".py",
   "mimetype": "text/x-python",
   "name": "python",
   "nbconvert_exporter": "python",
   "pygments_lexer": "ipython3",
   "version": "3.13.5"
  }
 },
 "nbformat": 4,
 "nbformat_minor": 5
}
