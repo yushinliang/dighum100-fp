{
 "cells": [
  {
   "cell_type": "code",
   "execution_count": 125,
   "id": "177c888c",
   "metadata": {},
   "outputs": [
    {
     "name": "stderr",
     "output_type": "stream",
     "text": [
      "/var/folders/t4/dq28zq9n76l56jjxh_rhb7pm0000gn/T/ipykernel_74253/3780236591.py:5: DtypeWarning:\n",
      "\n",
      "Columns (17) have mixed types. Specify dtype option on import or set low_memory=False.\n",
      "\n"
     ]
    }
   ],
   "source": [
    "import pandas as pd\n",
    "import requests\n",
    "\n",
    "# zip to city\n",
    "zip_map = pd.read_csv('uszips.csv')\n",
    "zip_map = zip_map[['zip','city']]\n",
    "zip_map['zip'] = zip_map['zip'].astype(str).str.zfill(5)\n"
   ]
  },
  {
   "cell_type": "code",
   "execution_count": 126,
   "id": "e279a729",
   "metadata": {},
   "outputs": [],
   "source": [
    "# rollout data\n",
    "rollout_df = pd.read_csv('vaccination_by_zip_2021.csv')\n",
    "rollout_df = rollout_df[rollout_df['county']=='Los Angeles'].rename(columns={'zip_code_tabulation_area': 'zip'})\n",
    "rollout_df['zip'] = rollout_df['zip'].astype(str).str.zfill(5)\n",
    "\n",
    "# convert rollout proportion columns to percentage scale\n",
    "cols_to_convert = [\n",
    "    'percent_of_population_fully_vaccinated',\n",
    "    'percent_of_population_partially_vaccinated',\n",
    "    'percent_of_population_with_1_plus_dose'\n",
    "]\n",
    "\n",
    "for col in cols_to_convert:\n",
    "    rollout_df[col] = rollout_df[col] * 100"
   ]
  },
  {
   "cell_type": "code",
   "execution_count": 127,
   "id": "44d3a60e",
   "metadata": {},
   "outputs": [
    {
     "data": {
      "text/html": [
       "<div>\n",
       "<style scoped>\n",
       "    .dataframe tbody tr th:only-of-type {\n",
       "        vertical-align: middle;\n",
       "    }\n",
       "\n",
       "    .dataframe tbody tr th {\n",
       "        vertical-align: top;\n",
       "    }\n",
       "\n",
       "    .dataframe thead th {\n",
       "        text-align: right;\n",
       "    }\n",
       "</style>\n",
       "<table border=\"1\" class=\"dataframe\">\n",
       "  <thead>\n",
       "    <tr style=\"text-align: right;\">\n",
       "      <th></th>\n",
       "      <th>NAME</th>\n",
       "      <th>median_income</th>\n",
       "      <th>zip</th>\n",
       "      <th>poverty_rate</th>\n",
       "    </tr>\n",
       "  </thead>\n",
       "  <tbody>\n",
       "    <tr>\n",
       "      <th>0</th>\n",
       "      <td>ZCTA5 29590</td>\n",
       "      <td>30985</td>\n",
       "      <td>29590</td>\n",
       "      <td>37.1</td>\n",
       "    </tr>\n",
       "    <tr>\n",
       "      <th>1</th>\n",
       "      <td>ZCTA5 93306</td>\n",
       "      <td>54450</td>\n",
       "      <td>93306</td>\n",
       "      <td>21.5</td>\n",
       "    </tr>\n",
       "    <tr>\n",
       "      <th>2</th>\n",
       "      <td>ZCTA5 93660</td>\n",
       "      <td>39625</td>\n",
       "      <td>93660</td>\n",
       "      <td>25.9</td>\n",
       "    </tr>\n",
       "    <tr>\n",
       "      <th>3</th>\n",
       "      <td>ZCTA5 93110</td>\n",
       "      <td>93264</td>\n",
       "      <td>93110</td>\n",
       "      <td>9.1</td>\n",
       "    </tr>\n",
       "    <tr>\n",
       "      <th>4</th>\n",
       "      <td>ZCTA5 93212</td>\n",
       "      <td>42983</td>\n",
       "      <td>93212</td>\n",
       "      <td>28.9</td>\n",
       "    </tr>\n",
       "  </tbody>\n",
       "</table>\n",
       "</div>"
      ],
      "text/plain": [
       "          NAME  median_income    zip  poverty_rate\n",
       "0  ZCTA5 29590          30985  29590          37.1\n",
       "1  ZCTA5 93306          54450  93306          21.5\n",
       "2  ZCTA5 93660          39625  93660          25.9\n",
       "3  ZCTA5 93110          93264  93110           9.1\n",
       "4  ZCTA5 93212          42983  93212          28.9"
      ]
     },
     "execution_count": 127,
     "metadata": {},
     "output_type": "execute_result"
    }
   ],
   "source": [
    "# ACS 2020 median income\n",
    "url = \"https://api.census.gov/data/2020/acs/acs5\"\n",
    "params = {\n",
    "    \"get\": \"NAME,B19013_001E\",          # median-household-income field, poverty rate\n",
    "    \"for\": \"zip code tabulation area:*\",# every ZCTA\n",
    "}\n",
    "\n",
    "resp = requests.get(url, params=params)\n",
    "raw = resp.json()\n",
    "income_df = pd.DataFrame(raw[1:], columns=raw[0])\n",
    "\n",
    "income_df.rename(columns={\n",
    "    \"B19013_001E\": \"median_income\",\n",
    "    \"zip code tabulation area\": \"zip\"\n",
    "}, inplace=True)\n",
    "\n",
    "\n",
    "income_df[\"median_income\"] = pd.to_numeric(income_df[\"median_income\"],\n",
    "                                            errors=\"coerce\")\n",
    "income_df['zip'] = income_df['zip'].astype(str).str.zfill(5)\n",
    "\n",
    "# ACS 2020 poverty rate\n",
    "url_poverty = \"https://api.census.gov/data/2020/acs/acs5/subject\"\n",
    "params_poverty = {\n",
    "    \"get\": \"NAME,S1701_C03_001E\",\n",
    "    \"for\": \"zip code tabulation area:*\"\n",
    "}\n",
    "\n",
    "resp_poverty = requests.get(url_poverty, params=params_poverty)\n",
    "data_poverty = resp_poverty.json()\n",
    "\n",
    "poverty_df = pd.DataFrame(data_poverty[1:], columns=data_poverty[0])\n",
    "poverty_df.rename(columns={\n",
    "    \"S1701_C03_001E\": \"poverty_rate\",\n",
    "    \"zip code tabulation area\": \"zip\"\n",
    "}, inplace=True)\n",
    "poverty_df[\"zip\"] = poverty_df[\"zip\"].astype(str).str.zfill(5)\n",
    "poverty_df[\"poverty_rate\"] = pd.to_numeric(poverty_df[\"poverty_rate\"], errors=\"coerce\")\n",
    "\n",
    "# merged\n",
    "econ_df = pd.merge(income_df, poverty_df[['zip', 'poverty_rate']], on='zip', how='left')\n",
    "econ_df.head()"
   ]
  },
  {
   "cell_type": "code",
   "execution_count": 128,
   "id": "c3936488",
   "metadata": {},
   "outputs": [],
   "source": [
    "# keep data only by march 2021\n",
    "merged_df = rollout_df.merge(econ_df, on='zip', how='left')\n",
    "merged_2103_df = merged_df[merged_df['as_of_date'] == '2021-03-30']"
   ]
  },
  {
   "cell_type": "code",
   "execution_count": 129,
   "id": "3834f1ae",
   "metadata": {},
   "outputs": [],
   "source": [
    "city_2103_df = merged_2103_df.merge(zip_map, on='zip', how='left')\\\n",
    "    [['zip','city','median_income','poverty_rate','percent_of_population_fully_vaccinated',\n",
    "       'percent_of_population_partially_vaccinated',\n",
    "       'percent_of_population_with_1_plus_dose']]\n",
    "city_2103_df = city_2103_df.dropna()\n",
    "city_2103_df = city_2103_df[city_2103_df['median_income'] > 0]"
   ]
  },
  {
   "cell_type": "code",
   "execution_count": 130,
   "id": "d3ea238f",
   "metadata": {},
   "outputs": [
    {
     "data": {
      "text/html": [
       "<div>\n",
       "<style scoped>\n",
       "    .dataframe tbody tr th:only-of-type {\n",
       "        vertical-align: middle;\n",
       "    }\n",
       "\n",
       "    .dataframe tbody tr th {\n",
       "        vertical-align: top;\n",
       "    }\n",
       "\n",
       "    .dataframe thead th {\n",
       "        text-align: right;\n",
       "    }\n",
       "</style>\n",
       "<table border=\"1\" class=\"dataframe\">\n",
       "  <thead>\n",
       "    <tr style=\"text-align: right;\">\n",
       "      <th></th>\n",
       "      <th>zip</th>\n",
       "      <th>city</th>\n",
       "      <th>median_income</th>\n",
       "      <th>poverty_rate</th>\n",
       "      <th>percent_of_population_fully_vaccinated</th>\n",
       "      <th>percent_of_population_partially_vaccinated</th>\n",
       "      <th>percent_of_population_with_1_plus_dose</th>\n",
       "    </tr>\n",
       "  </thead>\n",
       "  <tbody>\n",
       "    <tr>\n",
       "      <th>0</th>\n",
       "      <td>91773</td>\n",
       "      <td>San Dimas</td>\n",
       "      <td>89669</td>\n",
       "      <td>8.8</td>\n",
       "      <td>27.6266</td>\n",
       "      <td>16.0076</td>\n",
       "      <td>43.6342</td>\n",
       "    </tr>\n",
       "    <tr>\n",
       "      <th>1</th>\n",
       "      <td>91204</td>\n",
       "      <td>Glendale</td>\n",
       "      <td>55847</td>\n",
       "      <td>19.4</td>\n",
       "      <td>17.1616</td>\n",
       "      <td>11.8067</td>\n",
       "      <td>28.9683</td>\n",
       "    </tr>\n",
       "    <tr>\n",
       "      <th>2</th>\n",
       "      <td>91303</td>\n",
       "      <td>Canoga Park</td>\n",
       "      <td>62848</td>\n",
       "      <td>18.0</td>\n",
       "      <td>13.8763</td>\n",
       "      <td>12.6083</td>\n",
       "      <td>26.4846</td>\n",
       "    </tr>\n",
       "    <tr>\n",
       "      <th>3</th>\n",
       "      <td>91384</td>\n",
       "      <td>Castaic</td>\n",
       "      <td>111990</td>\n",
       "      <td>4.8</td>\n",
       "      <td>15.4820</td>\n",
       "      <td>11.4619</td>\n",
       "      <td>26.9439</td>\n",
       "    </tr>\n",
       "    <tr>\n",
       "      <th>4</th>\n",
       "      <td>91702</td>\n",
       "      <td>Azusa</td>\n",
       "      <td>68058</td>\n",
       "      <td>13.3</td>\n",
       "      <td>17.0288</td>\n",
       "      <td>14.8524</td>\n",
       "      <td>31.8812</td>\n",
       "    </tr>\n",
       "  </tbody>\n",
       "</table>\n",
       "</div>"
      ],
      "text/plain": [
       "     zip         city  median_income  poverty_rate  \\\n",
       "0  91773    San Dimas          89669           8.8   \n",
       "1  91204     Glendale          55847          19.4   \n",
       "2  91303  Canoga Park          62848          18.0   \n",
       "3  91384      Castaic         111990           4.8   \n",
       "4  91702        Azusa          68058          13.3   \n",
       "\n",
       "   percent_of_population_fully_vaccinated  \\\n",
       "0                                 27.6266   \n",
       "1                                 17.1616   \n",
       "2                                 13.8763   \n",
       "3                                 15.4820   \n",
       "4                                 17.0288   \n",
       "\n",
       "   percent_of_population_partially_vaccinated  \\\n",
       "0                                     16.0076   \n",
       "1                                     11.8067   \n",
       "2                                     12.6083   \n",
       "3                                     11.4619   \n",
       "4                                     14.8524   \n",
       "\n",
       "   percent_of_population_with_1_plus_dose  \n",
       "0                                 43.6342  \n",
       "1                                 28.9683  \n",
       "2                                 26.4846  \n",
       "3                                 26.9439  \n",
       "4                                 31.8812  "
      ]
     },
     "execution_count": 130,
     "metadata": {},
     "output_type": "execute_result"
    }
   ],
   "source": [
    "city_2103_df.head()"
   ]
  },
  {
   "cell_type": "code",
   "execution_count": 131,
   "id": "239fe765",
   "metadata": {},
   "outputs": [
    {
     "data": {
      "text/plain": [
       "125"
      ]
     },
     "execution_count": 131,
     "metadata": {},
     "output_type": "execute_result"
    }
   ],
   "source": [
    "city_2103_df['city'].nunique()"
   ]
  },
  {
   "cell_type": "code",
   "execution_count": 132,
   "id": "a3a31a64",
   "metadata": {},
   "outputs": [
    {
     "data": {
      "text/html": [
       "<div>\n",
       "<style scoped>\n",
       "    .dataframe tbody tr th:only-of-type {\n",
       "        vertical-align: middle;\n",
       "    }\n",
       "\n",
       "    .dataframe tbody tr th {\n",
       "        vertical-align: top;\n",
       "    }\n",
       "\n",
       "    .dataframe thead th {\n",
       "        text-align: right;\n",
       "    }\n",
       "</style>\n",
       "<table border=\"1\" class=\"dataframe\">\n",
       "  <thead>\n",
       "    <tr style=\"text-align: right;\">\n",
       "      <th></th>\n",
       "      <th>city</th>\n",
       "      <th>median_income</th>\n",
       "      <th>poverty_rate</th>\n",
       "      <th>percent_of_population_fully_vaccinated</th>\n",
       "      <th>percent_of_population_partially_vaccinated</th>\n",
       "      <th>percent_of_population_with_1_plus_dose</th>\n",
       "    </tr>\n",
       "  </thead>\n",
       "  <tbody>\n",
       "    <tr>\n",
       "      <th>0</th>\n",
       "      <td>Acton</td>\n",
       "      <td>101750.0</td>\n",
       "      <td>11.50</td>\n",
       "      <td>15.98580</td>\n",
       "      <td>11.0308</td>\n",
       "      <td>27.01660</td>\n",
       "    </tr>\n",
       "    <tr>\n",
       "      <th>1</th>\n",
       "      <td>Agoura Hills</td>\n",
       "      <td>130315.0</td>\n",
       "      <td>3.70</td>\n",
       "      <td>28.71310</td>\n",
       "      <td>17.5654</td>\n",
       "      <td>46.27850</td>\n",
       "    </tr>\n",
       "    <tr>\n",
       "      <th>2</th>\n",
       "      <td>Alhambra</td>\n",
       "      <td>66486.5</td>\n",
       "      <td>12.95</td>\n",
       "      <td>27.07145</td>\n",
       "      <td>18.3807</td>\n",
       "      <td>45.45215</td>\n",
       "    </tr>\n",
       "    <tr>\n",
       "      <th>3</th>\n",
       "      <td>Altadena</td>\n",
       "      <td>104577.0</td>\n",
       "      <td>7.30</td>\n",
       "      <td>28.96730</td>\n",
       "      <td>16.2284</td>\n",
       "      <td>45.19570</td>\n",
       "    </tr>\n",
       "    <tr>\n",
       "      <th>4</th>\n",
       "      <td>Arcadia</td>\n",
       "      <td>94922.0</td>\n",
       "      <td>8.55</td>\n",
       "      <td>28.58715</td>\n",
       "      <td>18.0640</td>\n",
       "      <td>46.65115</td>\n",
       "    </tr>\n",
       "  </tbody>\n",
       "</table>\n",
       "</div>"
      ],
      "text/plain": [
       "           city  median_income  poverty_rate  \\\n",
       "0         Acton       101750.0         11.50   \n",
       "1  Agoura Hills       130315.0          3.70   \n",
       "2      Alhambra        66486.5         12.95   \n",
       "3      Altadena       104577.0          7.30   \n",
       "4       Arcadia        94922.0          8.55   \n",
       "\n",
       "   percent_of_population_fully_vaccinated  \\\n",
       "0                                15.98580   \n",
       "1                                28.71310   \n",
       "2                                27.07145   \n",
       "3                                28.96730   \n",
       "4                                28.58715   \n",
       "\n",
       "   percent_of_population_partially_vaccinated  \\\n",
       "0                                     11.0308   \n",
       "1                                     17.5654   \n",
       "2                                     18.3807   \n",
       "3                                     16.2284   \n",
       "4                                     18.0640   \n",
       "\n",
       "   percent_of_population_with_1_plus_dose  \n",
       "0                                27.01660  \n",
       "1                                46.27850  \n",
       "2                                45.45215  \n",
       "3                                45.19570  \n",
       "4                                46.65115  "
      ]
     },
     "execution_count": 132,
     "metadata": {},
     "output_type": "execute_result"
    }
   ],
   "source": [
    "# Group by 'city' and average all numeric columns\n",
    "city_grouped_df = (\n",
    "    city_2103_df\n",
    "    .groupby('city', as_index=False)\n",
    "    .mean(numeric_only=True)\n",
    ")\n",
    "\n",
    "city_grouped_df.head()\n"
   ]
  },
  {
   "cell_type": "code",
   "execution_count": 133,
   "id": "e426fce4",
   "metadata": {},
   "outputs": [
    {
     "data": {
      "application/vnd.plotly.v1+json": {
       "config": {
        "plotlyServerURL": "https://plot.ly"
       },
       "data": [
        {
         "hovertemplate": "<b>%{hovertext}</b><br><br>Median Household Income ($)=%{x:,.0f}<br>Fully Vaccinated (%)=%{y:.2f}<extra></extra>",
         "hovertext": [
          "Acton",
          "Agoura Hills",
          "Alhambra",
          "Altadena",
          "Arcadia",
          "Artesia",
          "Avalon",
          "Azusa",
          "Baldwin Park",
          "Bell Gardens",
          "Bellflower",
          "Beverly Hills",
          "Burbank",
          "Calabasas",
          "Canoga Park",
          "Canyon Country",
          "Carson",
          "Castaic",
          "Cerritos",
          "Chatsworth",
          "Claremont",
          "Compton",
          "Covina",
          "Culver City",
          "Diamond Bar",
          "Downey",
          "Duarte",
          "El Monte",
          "El Segundo",
          "Encino",
          "Gardena",
          "Glendale",
          "Glendora",
          "Granada Hills",
          "Hacienda Heights",
          "Harbor City",
          "Hawaiian Gardens",
          "Hawthorne",
          "Hermosa Beach",
          "Huntington Park",
          "Inglewood",
          "La Canada Flintridge",
          "La Crescenta",
          "La Mirada",
          "La Puente",
          "La Verne",
          "Lake Hughes",
          "Lakewood",
          "Lancaster",
          "Lawndale",
          "Littlerock",
          "Llano",
          "Lomita",
          "Long Beach",
          "Los Angeles",
          "Lynwood",
          "Malibu",
          "Manhattan Beach",
          "Marina Del Rey",
          "Maywood",
          "Mission Hills",
          "Monrovia",
          "Montebello",
          "Monterey Park",
          "Montrose",
          "Newhall",
          "North Hills",
          "North Hollywood",
          "Northridge",
          "Norwalk",
          "Pacific Palisades",
          "Pacoima",
          "Palmdale",
          "Palos Verdes Peninsula",
          "Panorama City",
          "Paramount",
          "Pasadena",
          "Pearblossom",
          "Pico Rivera",
          "Playa Del Rey",
          "Playa Vista",
          "Pomona",
          "Porter Ranch",
          "Rancho Palos Verdes",
          "Redondo Beach",
          "Reseda",
          "Rosemead",
          "Rowland Heights",
          "San Dimas",
          "San Fernando",
          "San Gabriel",
          "San Marino",
          "San Pedro",
          "Santa Clarita",
          "Santa Fe Springs",
          "Santa Monica",
          "Sherman Oaks",
          "Sierra Madre",
          "Signal Hill",
          "South El Monte",
          "South Gate",
          "South Pasadena",
          "Stevenson Ranch",
          "Studio City",
          "Sun Valley",
          "Sunland",
          "Sylmar",
          "Tarzana",
          "Temple City",
          "Topanga",
          "Torrance",
          "Tujunga",
          "Valencia",
          "Valley Village",
          "Valyermo",
          "Van Nuys",
          "Venice",
          "Walnut",
          "West Covina",
          "West Hills",
          "West Hollywood",
          "Whittier",
          "Wilmington",
          "Winnetka",
          "Woodland Hills"
         ],
         "legendgroup": "",
         "marker": {
          "color": "#636efa",
          "symbol": "circle"
         },
         "mode": "markers",
         "name": "",
         "orientation": "v",
         "showlegend": false,
         "type": "scatter",
         "x": [
          101750,
          130315,
          66486.5,
          104577,
          94922,
          74523,
          77868,
          68058,
          68773,
          46109,
          63848,
          111548,
          77520.8,
          149724,
          66943.5,
          90150,
          87347,
          111990,
          108844,
          96432,
          100598,
          57354.333333333336,
          79182.66666666667,
          92792.5,
          101161,
          77472.66666666667,
          95948.5,
          52410.5,
          115846,
          114696,
          63417,
          78703.11111111111,
          99202.5,
          103329,
          88702,
          65119,
          61525,
          60162,
          142500,
          49366,
          61055.6,
          170571,
          108583,
          92508,
          75920,
          93166,
          76250,
          95156.33333333333,
          59075,
          70389,
          57003,
          38523,
          75286,
          71670.54545454546,
          63105.45901639344,
          57236,
          163909,
          153926,
          121021,
          50996,
          80759,
          82801,
          62521,
          62751.5,
          65506,
          74986,
          67043,
          61797.5,
          77967.5,
          77425,
          199598,
          64375,
          64209.75,
          181776,
          48933,
          57313,
          90885.66666666667,
          62875,
          70620,
          104814,
          170634,
          62145.666666666664,
          120563,
          145816,
          115919,
          65740,
          61394,
          73948,
          89669,
          64479,
          79793.5,
          163654,
          79309.5,
          117465,
          71318,
          104906.4,
          95902,
          106719,
          86140,
          57500,
          55084,
          109927,
          134115,
          119586,
          58696,
          92280,
          79572,
          80872,
          83029,
          129000,
          89268,
          66453,
          113098.5,
          76092,
          200625,
          57629.75,
          99496,
          105848,
          85564,
          119452,
          90546,
          77509,
          50965,
          73894,
          102868.5
         ],
         "xaxis": "x",
         "y": [
          15.9858,
          28.713100000000004,
          27.07145,
          28.9673,
          28.58715,
          25.140400000000003,
          45.7952,
          17.0288,
          18.162200000000002,
          12.720999999999998,
          17.6873,
          38.8025,
          22.15252,
          34.8516,
          17.25995,
          20.8494,
          27.08195,
          15.482000000000001,
          34.6312,
          25.744600000000002,
          31.803700000000003,
          11.965766666666667,
          22.54296666666667,
          28.806350000000002,
          28.1391,
          21.916833333333333,
          29.9951,
          17.42385,
          25.4876,
          36.650800000000004,
          21.973333333333333,
          23.31552222222222,
          27.043750000000003,
          26.7378,
          25.6618,
          21.1627,
          12.5186,
          16.8951,
          26.3425,
          13.8438,
          16.69898,
          37.7655,
          29.5533,
          23.382,
          17.4434,
          28.5904,
          11.8368,
          24.383399999999998,
          13.442100000000002,
          17.325499999999998,
          10.3507,
          12.9915,
          23.2235,
          23.738290909090907,
          23.357373770491805,
          13.497700000000002,
          24.585,
          32.053399999999996,
          27.513399999999997,
          13.4131,
          22.418499999999998,
          24.8532,
          21.9942,
          30.61725,
          23.150399999999998,
          20.6248,
          18.5925,
          17.12115,
          24.115099999999998,
          19.0821,
          42.0311,
          15.2445,
          12.58805,
          39.156400000000005,
          16.3087,
          14.316400000000002,
          31.368283333333334,
          16.6656,
          21.3641,
          25.146400000000003,
          28.648,
          15.100933333333336,
          34.3208,
          35.2983,
          27.86835,
          20.2268,
          24.0825,
          23.110500000000002,
          27.6266,
          15.7834,
          27.2819,
          36.6838,
          24.024549999999998,
          25.377,
          21.563299999999998,
          30.2534,
          28.229799999999997,
          35.4191,
          24.5052,
          15.7739,
          16.0778,
          34.5245,
          26.110100000000003,
          26.6708,
          16.3886,
          22.101599999999998,
          18.667,
          31.983099999999997,
          28.4881,
          27.441,
          26.3825,
          20.336199999999998,
          28.6062,
          21.3966,
          8.4698,
          16.37255,
          22.764799999999997,
          29.535899999999998,
          25.159566666666667,
          29.284100000000002,
          29.2321,
          20.732233333333333,
          14.904800000000002,
          20.3862,
          28.749750000000002
         ],
         "yaxis": "y"
        }
       ],
       "layout": {
        "height": 600,
        "legend": {
         "tracegroupgap": 0
        },
        "template": {
         "data": {
          "bar": [
           {
            "error_x": {
             "color": "#2a3f5f"
            },
            "error_y": {
             "color": "#2a3f5f"
            },
            "marker": {
             "line": {
              "color": "#E5ECF6",
              "width": 0.5
             },
             "pattern": {
              "fillmode": "overlay",
              "size": 10,
              "solidity": 0.2
             }
            },
            "type": "bar"
           }
          ],
          "barpolar": [
           {
            "marker": {
             "line": {
              "color": "#E5ECF6",
              "width": 0.5
             },
             "pattern": {
              "fillmode": "overlay",
              "size": 10,
              "solidity": 0.2
             }
            },
            "type": "barpolar"
           }
          ],
          "carpet": [
           {
            "aaxis": {
             "endlinecolor": "#2a3f5f",
             "gridcolor": "white",
             "linecolor": "white",
             "minorgridcolor": "white",
             "startlinecolor": "#2a3f5f"
            },
            "baxis": {
             "endlinecolor": "#2a3f5f",
             "gridcolor": "white",
             "linecolor": "white",
             "minorgridcolor": "white",
             "startlinecolor": "#2a3f5f"
            },
            "type": "carpet"
           }
          ],
          "choropleth": [
           {
            "colorbar": {
             "outlinewidth": 0,
             "ticks": ""
            },
            "type": "choropleth"
           }
          ],
          "contour": [
           {
            "colorbar": {
             "outlinewidth": 0,
             "ticks": ""
            },
            "colorscale": [
             [
              0,
              "#0d0887"
             ],
             [
              0.1111111111111111,
              "#46039f"
             ],
             [
              0.2222222222222222,
              "#7201a8"
             ],
             [
              0.3333333333333333,
              "#9c179e"
             ],
             [
              0.4444444444444444,
              "#bd3786"
             ],
             [
              0.5555555555555556,
              "#d8576b"
             ],
             [
              0.6666666666666666,
              "#ed7953"
             ],
             [
              0.7777777777777778,
              "#fb9f3a"
             ],
             [
              0.8888888888888888,
              "#fdca26"
             ],
             [
              1,
              "#f0f921"
             ]
            ],
            "type": "contour"
           }
          ],
          "contourcarpet": [
           {
            "colorbar": {
             "outlinewidth": 0,
             "ticks": ""
            },
            "type": "contourcarpet"
           }
          ],
          "heatmap": [
           {
            "colorbar": {
             "outlinewidth": 0,
             "ticks": ""
            },
            "colorscale": [
             [
              0,
              "#0d0887"
             ],
             [
              0.1111111111111111,
              "#46039f"
             ],
             [
              0.2222222222222222,
              "#7201a8"
             ],
             [
              0.3333333333333333,
              "#9c179e"
             ],
             [
              0.4444444444444444,
              "#bd3786"
             ],
             [
              0.5555555555555556,
              "#d8576b"
             ],
             [
              0.6666666666666666,
              "#ed7953"
             ],
             [
              0.7777777777777778,
              "#fb9f3a"
             ],
             [
              0.8888888888888888,
              "#fdca26"
             ],
             [
              1,
              "#f0f921"
             ]
            ],
            "type": "heatmap"
           }
          ],
          "heatmapgl": [
           {
            "colorbar": {
             "outlinewidth": 0,
             "ticks": ""
            },
            "colorscale": [
             [
              0,
              "#0d0887"
             ],
             [
              0.1111111111111111,
              "#46039f"
             ],
             [
              0.2222222222222222,
              "#7201a8"
             ],
             [
              0.3333333333333333,
              "#9c179e"
             ],
             [
              0.4444444444444444,
              "#bd3786"
             ],
             [
              0.5555555555555556,
              "#d8576b"
             ],
             [
              0.6666666666666666,
              "#ed7953"
             ],
             [
              0.7777777777777778,
              "#fb9f3a"
             ],
             [
              0.8888888888888888,
              "#fdca26"
             ],
             [
              1,
              "#f0f921"
             ]
            ],
            "type": "heatmapgl"
           }
          ],
          "histogram": [
           {
            "marker": {
             "pattern": {
              "fillmode": "overlay",
              "size": 10,
              "solidity": 0.2
             }
            },
            "type": "histogram"
           }
          ],
          "histogram2d": [
           {
            "colorbar": {
             "outlinewidth": 0,
             "ticks": ""
            },
            "colorscale": [
             [
              0,
              "#0d0887"
             ],
             [
              0.1111111111111111,
              "#46039f"
             ],
             [
              0.2222222222222222,
              "#7201a8"
             ],
             [
              0.3333333333333333,
              "#9c179e"
             ],
             [
              0.4444444444444444,
              "#bd3786"
             ],
             [
              0.5555555555555556,
              "#d8576b"
             ],
             [
              0.6666666666666666,
              "#ed7953"
             ],
             [
              0.7777777777777778,
              "#fb9f3a"
             ],
             [
              0.8888888888888888,
              "#fdca26"
             ],
             [
              1,
              "#f0f921"
             ]
            ],
            "type": "histogram2d"
           }
          ],
          "histogram2dcontour": [
           {
            "colorbar": {
             "outlinewidth": 0,
             "ticks": ""
            },
            "colorscale": [
             [
              0,
              "#0d0887"
             ],
             [
              0.1111111111111111,
              "#46039f"
             ],
             [
              0.2222222222222222,
              "#7201a8"
             ],
             [
              0.3333333333333333,
              "#9c179e"
             ],
             [
              0.4444444444444444,
              "#bd3786"
             ],
             [
              0.5555555555555556,
              "#d8576b"
             ],
             [
              0.6666666666666666,
              "#ed7953"
             ],
             [
              0.7777777777777778,
              "#fb9f3a"
             ],
             [
              0.8888888888888888,
              "#fdca26"
             ],
             [
              1,
              "#f0f921"
             ]
            ],
            "type": "histogram2dcontour"
           }
          ],
          "mesh3d": [
           {
            "colorbar": {
             "outlinewidth": 0,
             "ticks": ""
            },
            "type": "mesh3d"
           }
          ],
          "parcoords": [
           {
            "line": {
             "colorbar": {
              "outlinewidth": 0,
              "ticks": ""
             }
            },
            "type": "parcoords"
           }
          ],
          "pie": [
           {
            "automargin": true,
            "type": "pie"
           }
          ],
          "scatter": [
           {
            "fillpattern": {
             "fillmode": "overlay",
             "size": 10,
             "solidity": 0.2
            },
            "type": "scatter"
           }
          ],
          "scatter3d": [
           {
            "line": {
             "colorbar": {
              "outlinewidth": 0,
              "ticks": ""
             }
            },
            "marker": {
             "colorbar": {
              "outlinewidth": 0,
              "ticks": ""
             }
            },
            "type": "scatter3d"
           }
          ],
          "scattercarpet": [
           {
            "marker": {
             "colorbar": {
              "outlinewidth": 0,
              "ticks": ""
             }
            },
            "type": "scattercarpet"
           }
          ],
          "scattergeo": [
           {
            "marker": {
             "colorbar": {
              "outlinewidth": 0,
              "ticks": ""
             }
            },
            "type": "scattergeo"
           }
          ],
          "scattergl": [
           {
            "marker": {
             "colorbar": {
              "outlinewidth": 0,
              "ticks": ""
             }
            },
            "type": "scattergl"
           }
          ],
          "scattermapbox": [
           {
            "marker": {
             "colorbar": {
              "outlinewidth": 0,
              "ticks": ""
             }
            },
            "type": "scattermapbox"
           }
          ],
          "scatterpolar": [
           {
            "marker": {
             "colorbar": {
              "outlinewidth": 0,
              "ticks": ""
             }
            },
            "type": "scatterpolar"
           }
          ],
          "scatterpolargl": [
           {
            "marker": {
             "colorbar": {
              "outlinewidth": 0,
              "ticks": ""
             }
            },
            "type": "scatterpolargl"
           }
          ],
          "scatterternary": [
           {
            "marker": {
             "colorbar": {
              "outlinewidth": 0,
              "ticks": ""
             }
            },
            "type": "scatterternary"
           }
          ],
          "surface": [
           {
            "colorbar": {
             "outlinewidth": 0,
             "ticks": ""
            },
            "colorscale": [
             [
              0,
              "#0d0887"
             ],
             [
              0.1111111111111111,
              "#46039f"
             ],
             [
              0.2222222222222222,
              "#7201a8"
             ],
             [
              0.3333333333333333,
              "#9c179e"
             ],
             [
              0.4444444444444444,
              "#bd3786"
             ],
             [
              0.5555555555555556,
              "#d8576b"
             ],
             [
              0.6666666666666666,
              "#ed7953"
             ],
             [
              0.7777777777777778,
              "#fb9f3a"
             ],
             [
              0.8888888888888888,
              "#fdca26"
             ],
             [
              1,
              "#f0f921"
             ]
            ],
            "type": "surface"
           }
          ],
          "table": [
           {
            "cells": {
             "fill": {
              "color": "#EBF0F8"
             },
             "line": {
              "color": "white"
             }
            },
            "header": {
             "fill": {
              "color": "#C8D4E3"
             },
             "line": {
              "color": "white"
             }
            },
            "type": "table"
           }
          ]
         },
         "layout": {
          "annotationdefaults": {
           "arrowcolor": "#2a3f5f",
           "arrowhead": 0,
           "arrowwidth": 1
          },
          "autotypenumbers": "strict",
          "coloraxis": {
           "colorbar": {
            "outlinewidth": 0,
            "ticks": ""
           }
          },
          "colorscale": {
           "diverging": [
            [
             0,
             "#8e0152"
            ],
            [
             0.1,
             "#c51b7d"
            ],
            [
             0.2,
             "#de77ae"
            ],
            [
             0.3,
             "#f1b6da"
            ],
            [
             0.4,
             "#fde0ef"
            ],
            [
             0.5,
             "#f7f7f7"
            ],
            [
             0.6,
             "#e6f5d0"
            ],
            [
             0.7,
             "#b8e186"
            ],
            [
             0.8,
             "#7fbc41"
            ],
            [
             0.9,
             "#4d9221"
            ],
            [
             1,
             "#276419"
            ]
           ],
           "sequential": [
            [
             0,
             "#0d0887"
            ],
            [
             0.1111111111111111,
             "#46039f"
            ],
            [
             0.2222222222222222,
             "#7201a8"
            ],
            [
             0.3333333333333333,
             "#9c179e"
            ],
            [
             0.4444444444444444,
             "#bd3786"
            ],
            [
             0.5555555555555556,
             "#d8576b"
            ],
            [
             0.6666666666666666,
             "#ed7953"
            ],
            [
             0.7777777777777778,
             "#fb9f3a"
            ],
            [
             0.8888888888888888,
             "#fdca26"
            ],
            [
             1,
             "#f0f921"
            ]
           ],
           "sequentialminus": [
            [
             0,
             "#0d0887"
            ],
            [
             0.1111111111111111,
             "#46039f"
            ],
            [
             0.2222222222222222,
             "#7201a8"
            ],
            [
             0.3333333333333333,
             "#9c179e"
            ],
            [
             0.4444444444444444,
             "#bd3786"
            ],
            [
             0.5555555555555556,
             "#d8576b"
            ],
            [
             0.6666666666666666,
             "#ed7953"
            ],
            [
             0.7777777777777778,
             "#fb9f3a"
            ],
            [
             0.8888888888888888,
             "#fdca26"
            ],
            [
             1,
             "#f0f921"
            ]
           ]
          },
          "colorway": [
           "#636efa",
           "#EF553B",
           "#00cc96",
           "#ab63fa",
           "#FFA15A",
           "#19d3f3",
           "#FF6692",
           "#B6E880",
           "#FF97FF",
           "#FECB52"
          ],
          "font": {
           "color": "#2a3f5f"
          },
          "geo": {
           "bgcolor": "white",
           "lakecolor": "white",
           "landcolor": "#E5ECF6",
           "showlakes": true,
           "showland": true,
           "subunitcolor": "white"
          },
          "hoverlabel": {
           "align": "left"
          },
          "hovermode": "closest",
          "mapbox": {
           "style": "light"
          },
          "paper_bgcolor": "white",
          "plot_bgcolor": "#E5ECF6",
          "polar": {
           "angularaxis": {
            "gridcolor": "white",
            "linecolor": "white",
            "ticks": ""
           },
           "bgcolor": "#E5ECF6",
           "radialaxis": {
            "gridcolor": "white",
            "linecolor": "white",
            "ticks": ""
           }
          },
          "scene": {
           "xaxis": {
            "backgroundcolor": "#E5ECF6",
            "gridcolor": "white",
            "gridwidth": 2,
            "linecolor": "white",
            "showbackground": true,
            "ticks": "",
            "zerolinecolor": "white"
           },
           "yaxis": {
            "backgroundcolor": "#E5ECF6",
            "gridcolor": "white",
            "gridwidth": 2,
            "linecolor": "white",
            "showbackground": true,
            "ticks": "",
            "zerolinecolor": "white"
           },
           "zaxis": {
            "backgroundcolor": "#E5ECF6",
            "gridcolor": "white",
            "gridwidth": 2,
            "linecolor": "white",
            "showbackground": true,
            "ticks": "",
            "zerolinecolor": "white"
           }
          },
          "shapedefaults": {
           "line": {
            "color": "#2a3f5f"
           }
          },
          "ternary": {
           "aaxis": {
            "gridcolor": "white",
            "linecolor": "white",
            "ticks": ""
           },
           "baxis": {
            "gridcolor": "white",
            "linecolor": "white",
            "ticks": ""
           },
           "bgcolor": "#E5ECF6",
           "caxis": {
            "gridcolor": "white",
            "linecolor": "white",
            "ticks": ""
           }
          },
          "title": {
           "x": 0.05
          },
          "xaxis": {
           "automargin": true,
           "gridcolor": "white",
           "linecolor": "white",
           "ticks": "",
           "title": {
            "standoff": 15
           },
           "zerolinecolor": "white",
           "zerolinewidth": 2
          },
          "yaxis": {
           "automargin": true,
           "gridcolor": "white",
           "linecolor": "white",
           "ticks": "",
           "title": {
            "standoff": 15
           },
           "zerolinecolor": "white",
           "zerolinewidth": 2
          }
         }
        },
        "title": {
         "text": "Income vs. Vaccination Rate by City (March 2021)"
        },
        "width": 800,
        "xaxis": {
         "anchor": "y",
         "domain": [
          0,
          1
         ],
         "title": {
          "text": "Median Household Income ($)"
         }
        },
        "yaxis": {
         "anchor": "x",
         "domain": [
          0,
          1
         ],
         "title": {
          "text": "Fully Vaccinated (%)"
         }
        }
       }
      }
     },
     "metadata": {},
     "output_type": "display_data"
    }
   ],
   "source": [
    "import plotly.express as px\n",
    "\n",
    "income_fig = px.scatter(\n",
    "    city_grouped_df,\n",
    "    x=\"median_income\",\n",
    "    y=\"percent_of_population_fully_vaccinated\",\n",
    "    # y=\"percent_of_population_with_1_plus_dose\",\n",
    "    hover_name=\"city\",\n",
    "    hover_data={\n",
    "        \"median_income\": \":,.0f\",\n",
    "        \"percent_of_population_fully_vaccinated\": \":.2f\"\n",
    "        # \"percent_of_population_with_1_plus_dose\": \":.2f\"\n",
    "    },\n",
    "    labels={\n",
    "        \"median_income\": \"Median Household Income ($)\",\n",
    "        \"percent_of_population_fully_vaccinated\": \"Fully Vaccinated (%)\"\n",
    "        # \"percent_of_population_with_1_plus_dose\": \"More Than 1 Dose (%)\"\n",
    "    },\n",
    "    title=\"Income vs. Vaccination Rate by City (March 2021)\"\n",
    ")\n",
    "\n",
    "income_fig.update_layout(height=600, width=800)\n",
    "income_fig.show()\n"
   ]
  },
  {
   "cell_type": "code",
   "execution_count": 134,
   "id": "d25167ef",
   "metadata": {},
   "outputs": [
    {
     "data": {
      "application/vnd.plotly.v1+json": {
       "config": {
        "plotlyServerURL": "https://plot.ly"
       },
       "data": [
        {
         "hovertemplate": "<b>%{hovertext}</b><br><br>Poverty Rate (%)=%{x:.2f}<br>Fully Vaccinated (%)=%{y:.2f}<extra></extra>",
         "hovertext": [
          "Acton",
          "Agoura Hills",
          "Alhambra",
          "Altadena",
          "Arcadia",
          "Artesia",
          "Avalon",
          "Azusa",
          "Baldwin Park",
          "Bell Gardens",
          "Bellflower",
          "Beverly Hills",
          "Burbank",
          "Calabasas",
          "Canoga Park",
          "Canyon Country",
          "Carson",
          "Castaic",
          "Cerritos",
          "Chatsworth",
          "Claremont",
          "Compton",
          "Covina",
          "Culver City",
          "Diamond Bar",
          "Downey",
          "Duarte",
          "El Monte",
          "El Segundo",
          "Encino",
          "Gardena",
          "Glendale",
          "Glendora",
          "Granada Hills",
          "Hacienda Heights",
          "Harbor City",
          "Hawaiian Gardens",
          "Hawthorne",
          "Hermosa Beach",
          "Huntington Park",
          "Inglewood",
          "La Canada Flintridge",
          "La Crescenta",
          "La Mirada",
          "La Puente",
          "La Verne",
          "Lake Hughes",
          "Lakewood",
          "Lancaster",
          "Lawndale",
          "Littlerock",
          "Llano",
          "Lomita",
          "Long Beach",
          "Los Angeles",
          "Lynwood",
          "Malibu",
          "Manhattan Beach",
          "Marina Del Rey",
          "Maywood",
          "Mission Hills",
          "Monrovia",
          "Montebello",
          "Monterey Park",
          "Montrose",
          "Newhall",
          "North Hills",
          "North Hollywood",
          "Northridge",
          "Norwalk",
          "Pacific Palisades",
          "Pacoima",
          "Palmdale",
          "Palos Verdes Peninsula",
          "Panorama City",
          "Paramount",
          "Pasadena",
          "Pearblossom",
          "Pico Rivera",
          "Playa Del Rey",
          "Playa Vista",
          "Pomona",
          "Porter Ranch",
          "Rancho Palos Verdes",
          "Redondo Beach",
          "Reseda",
          "Rosemead",
          "Rowland Heights",
          "San Dimas",
          "San Fernando",
          "San Gabriel",
          "San Marino",
          "San Pedro",
          "Santa Clarita",
          "Santa Fe Springs",
          "Santa Monica",
          "Sherman Oaks",
          "Sierra Madre",
          "Signal Hill",
          "South El Monte",
          "South Gate",
          "South Pasadena",
          "Stevenson Ranch",
          "Studio City",
          "Sun Valley",
          "Sunland",
          "Sylmar",
          "Tarzana",
          "Temple City",
          "Topanga",
          "Torrance",
          "Tujunga",
          "Valencia",
          "Valley Village",
          "Valyermo",
          "Van Nuys",
          "Venice",
          "Walnut",
          "West Covina",
          "West Hills",
          "West Hollywood",
          "Whittier",
          "Wilmington",
          "Winnetka",
          "Woodland Hills"
         ],
         "legendgroup": "",
         "marker": {
          "color": "#636efa",
          "symbol": "circle"
         },
         "mode": "markers",
         "name": "",
         "orientation": "v",
         "showlegend": false,
         "type": "scatter",
         "x": [
          11.5,
          3.7,
          12.95,
          7.3,
          8.55,
          7.6,
          11.5,
          13.3,
          12.6,
          25.6,
          12.9,
          8.833333333333334,
          11,
          9,
          14.85,
          10.7,
          8.4,
          4.8,
          4.3,
          6.6,
          5.1,
          19.566666666666666,
          8.833333333333334,
          9.6,
          7,
          8.133333333333333,
          7.1000000000000005,
          17.15,
          5,
          8.7,
          12.033333333333333,
          12.933333333333334,
          7.25,
          7.4,
          8.4,
          12.8,
          19.7,
          15.1,
          4.2,
          20.3,
          15.6,
          3.3,
          4.3,
          5,
          10.649999999999999,
          8,
          7.1,
          6.166666666666667,
          20.133333333333333,
          10.9,
          22.4,
          26.6,
          13.7,
          14.636363636363637,
          19.401639344262296,
          16.2,
          9.1,
          3.2,
          10.9,
          20.4,
          9.5,
          8.7,
          12.2,
          12.149999999999999,
          13.6,
          13.9,
          17,
          14.925,
          14.2,
          9.8,
          4.1,
          17,
          13.875,
          4.1,
          19.2,
          15.6,
          13.35,
          16.6,
          9.1,
          5.2,
          5.4,
          17.53333333333333,
          4.2,
          3.7,
          3.9,
          12.7,
          12.5,
          10.6,
          8.8,
          10.6,
          10.55,
          7.1,
          11.2,
          6.45,
          11.8,
          10.52,
          6.9,
          6.2,
          12.9,
          20.9,
          15.5,
          6.8,
          4.9,
          6.5,
          13.9,
          8.1,
          12.4,
          9.8,
          10.3,
          5.4,
          8.580000000000002,
          13.6,
          6.35,
          11.4,
          4,
          18.099999999999998,
          10.9,
          6.1,
          9.5,
          4.7,
          9.5,
          9.65,
          19.7,
          16.7,
          8.3
         ],
         "xaxis": "x",
         "y": [
          15.9858,
          28.713100000000004,
          27.07145,
          28.9673,
          28.58715,
          25.140400000000003,
          45.7952,
          17.0288,
          18.162200000000002,
          12.720999999999998,
          17.6873,
          38.8025,
          22.15252,
          34.8516,
          17.25995,
          20.8494,
          27.08195,
          15.482000000000001,
          34.6312,
          25.744600000000002,
          31.803700000000003,
          11.965766666666667,
          22.54296666666667,
          28.806350000000002,
          28.1391,
          21.916833333333333,
          29.9951,
          17.42385,
          25.4876,
          36.650800000000004,
          21.973333333333333,
          23.31552222222222,
          27.043750000000003,
          26.7378,
          25.6618,
          21.1627,
          12.5186,
          16.8951,
          26.3425,
          13.8438,
          16.69898,
          37.7655,
          29.5533,
          23.382,
          17.4434,
          28.5904,
          11.8368,
          24.383399999999998,
          13.442100000000002,
          17.325499999999998,
          10.3507,
          12.9915,
          23.2235,
          23.738290909090907,
          23.357373770491805,
          13.497700000000002,
          24.585,
          32.053399999999996,
          27.513399999999997,
          13.4131,
          22.418499999999998,
          24.8532,
          21.9942,
          30.61725,
          23.150399999999998,
          20.6248,
          18.5925,
          17.12115,
          24.115099999999998,
          19.0821,
          42.0311,
          15.2445,
          12.58805,
          39.156400000000005,
          16.3087,
          14.316400000000002,
          31.368283333333334,
          16.6656,
          21.3641,
          25.146400000000003,
          28.648,
          15.100933333333336,
          34.3208,
          35.2983,
          27.86835,
          20.2268,
          24.0825,
          23.110500000000002,
          27.6266,
          15.7834,
          27.2819,
          36.6838,
          24.024549999999998,
          25.377,
          21.563299999999998,
          30.2534,
          28.229799999999997,
          35.4191,
          24.5052,
          15.7739,
          16.0778,
          34.5245,
          26.110100000000003,
          26.6708,
          16.3886,
          22.101599999999998,
          18.667,
          31.983099999999997,
          28.4881,
          27.441,
          26.3825,
          20.336199999999998,
          28.6062,
          21.3966,
          8.4698,
          16.37255,
          22.764799999999997,
          29.535899999999998,
          25.159566666666667,
          29.284100000000002,
          29.2321,
          20.732233333333333,
          14.904800000000002,
          20.3862,
          28.749750000000002
         ],
         "yaxis": "y"
        }
       ],
       "layout": {
        "height": 600,
        "legend": {
         "tracegroupgap": 0
        },
        "template": {
         "data": {
          "bar": [
           {
            "error_x": {
             "color": "#2a3f5f"
            },
            "error_y": {
             "color": "#2a3f5f"
            },
            "marker": {
             "line": {
              "color": "#E5ECF6",
              "width": 0.5
             },
             "pattern": {
              "fillmode": "overlay",
              "size": 10,
              "solidity": 0.2
             }
            },
            "type": "bar"
           }
          ],
          "barpolar": [
           {
            "marker": {
             "line": {
              "color": "#E5ECF6",
              "width": 0.5
             },
             "pattern": {
              "fillmode": "overlay",
              "size": 10,
              "solidity": 0.2
             }
            },
            "type": "barpolar"
           }
          ],
          "carpet": [
           {
            "aaxis": {
             "endlinecolor": "#2a3f5f",
             "gridcolor": "white",
             "linecolor": "white",
             "minorgridcolor": "white",
             "startlinecolor": "#2a3f5f"
            },
            "baxis": {
             "endlinecolor": "#2a3f5f",
             "gridcolor": "white",
             "linecolor": "white",
             "minorgridcolor": "white",
             "startlinecolor": "#2a3f5f"
            },
            "type": "carpet"
           }
          ],
          "choropleth": [
           {
            "colorbar": {
             "outlinewidth": 0,
             "ticks": ""
            },
            "type": "choropleth"
           }
          ],
          "contour": [
           {
            "colorbar": {
             "outlinewidth": 0,
             "ticks": ""
            },
            "colorscale": [
             [
              0,
              "#0d0887"
             ],
             [
              0.1111111111111111,
              "#46039f"
             ],
             [
              0.2222222222222222,
              "#7201a8"
             ],
             [
              0.3333333333333333,
              "#9c179e"
             ],
             [
              0.4444444444444444,
              "#bd3786"
             ],
             [
              0.5555555555555556,
              "#d8576b"
             ],
             [
              0.6666666666666666,
              "#ed7953"
             ],
             [
              0.7777777777777778,
              "#fb9f3a"
             ],
             [
              0.8888888888888888,
              "#fdca26"
             ],
             [
              1,
              "#f0f921"
             ]
            ],
            "type": "contour"
           }
          ],
          "contourcarpet": [
           {
            "colorbar": {
             "outlinewidth": 0,
             "ticks": ""
            },
            "type": "contourcarpet"
           }
          ],
          "heatmap": [
           {
            "colorbar": {
             "outlinewidth": 0,
             "ticks": ""
            },
            "colorscale": [
             [
              0,
              "#0d0887"
             ],
             [
              0.1111111111111111,
              "#46039f"
             ],
             [
              0.2222222222222222,
              "#7201a8"
             ],
             [
              0.3333333333333333,
              "#9c179e"
             ],
             [
              0.4444444444444444,
              "#bd3786"
             ],
             [
              0.5555555555555556,
              "#d8576b"
             ],
             [
              0.6666666666666666,
              "#ed7953"
             ],
             [
              0.7777777777777778,
              "#fb9f3a"
             ],
             [
              0.8888888888888888,
              "#fdca26"
             ],
             [
              1,
              "#f0f921"
             ]
            ],
            "type": "heatmap"
           }
          ],
          "heatmapgl": [
           {
            "colorbar": {
             "outlinewidth": 0,
             "ticks": ""
            },
            "colorscale": [
             [
              0,
              "#0d0887"
             ],
             [
              0.1111111111111111,
              "#46039f"
             ],
             [
              0.2222222222222222,
              "#7201a8"
             ],
             [
              0.3333333333333333,
              "#9c179e"
             ],
             [
              0.4444444444444444,
              "#bd3786"
             ],
             [
              0.5555555555555556,
              "#d8576b"
             ],
             [
              0.6666666666666666,
              "#ed7953"
             ],
             [
              0.7777777777777778,
              "#fb9f3a"
             ],
             [
              0.8888888888888888,
              "#fdca26"
             ],
             [
              1,
              "#f0f921"
             ]
            ],
            "type": "heatmapgl"
           }
          ],
          "histogram": [
           {
            "marker": {
             "pattern": {
              "fillmode": "overlay",
              "size": 10,
              "solidity": 0.2
             }
            },
            "type": "histogram"
           }
          ],
          "histogram2d": [
           {
            "colorbar": {
             "outlinewidth": 0,
             "ticks": ""
            },
            "colorscale": [
             [
              0,
              "#0d0887"
             ],
             [
              0.1111111111111111,
              "#46039f"
             ],
             [
              0.2222222222222222,
              "#7201a8"
             ],
             [
              0.3333333333333333,
              "#9c179e"
             ],
             [
              0.4444444444444444,
              "#bd3786"
             ],
             [
              0.5555555555555556,
              "#d8576b"
             ],
             [
              0.6666666666666666,
              "#ed7953"
             ],
             [
              0.7777777777777778,
              "#fb9f3a"
             ],
             [
              0.8888888888888888,
              "#fdca26"
             ],
             [
              1,
              "#f0f921"
             ]
            ],
            "type": "histogram2d"
           }
          ],
          "histogram2dcontour": [
           {
            "colorbar": {
             "outlinewidth": 0,
             "ticks": ""
            },
            "colorscale": [
             [
              0,
              "#0d0887"
             ],
             [
              0.1111111111111111,
              "#46039f"
             ],
             [
              0.2222222222222222,
              "#7201a8"
             ],
             [
              0.3333333333333333,
              "#9c179e"
             ],
             [
              0.4444444444444444,
              "#bd3786"
             ],
             [
              0.5555555555555556,
              "#d8576b"
             ],
             [
              0.6666666666666666,
              "#ed7953"
             ],
             [
              0.7777777777777778,
              "#fb9f3a"
             ],
             [
              0.8888888888888888,
              "#fdca26"
             ],
             [
              1,
              "#f0f921"
             ]
            ],
            "type": "histogram2dcontour"
           }
          ],
          "mesh3d": [
           {
            "colorbar": {
             "outlinewidth": 0,
             "ticks": ""
            },
            "type": "mesh3d"
           }
          ],
          "parcoords": [
           {
            "line": {
             "colorbar": {
              "outlinewidth": 0,
              "ticks": ""
             }
            },
            "type": "parcoords"
           }
          ],
          "pie": [
           {
            "automargin": true,
            "type": "pie"
           }
          ],
          "scatter": [
           {
            "fillpattern": {
             "fillmode": "overlay",
             "size": 10,
             "solidity": 0.2
            },
            "type": "scatter"
           }
          ],
          "scatter3d": [
           {
            "line": {
             "colorbar": {
              "outlinewidth": 0,
              "ticks": ""
             }
            },
            "marker": {
             "colorbar": {
              "outlinewidth": 0,
              "ticks": ""
             }
            },
            "type": "scatter3d"
           }
          ],
          "scattercarpet": [
           {
            "marker": {
             "colorbar": {
              "outlinewidth": 0,
              "ticks": ""
             }
            },
            "type": "scattercarpet"
           }
          ],
          "scattergeo": [
           {
            "marker": {
             "colorbar": {
              "outlinewidth": 0,
              "ticks": ""
             }
            },
            "type": "scattergeo"
           }
          ],
          "scattergl": [
           {
            "marker": {
             "colorbar": {
              "outlinewidth": 0,
              "ticks": ""
             }
            },
            "type": "scattergl"
           }
          ],
          "scattermapbox": [
           {
            "marker": {
             "colorbar": {
              "outlinewidth": 0,
              "ticks": ""
             }
            },
            "type": "scattermapbox"
           }
          ],
          "scatterpolar": [
           {
            "marker": {
             "colorbar": {
              "outlinewidth": 0,
              "ticks": ""
             }
            },
            "type": "scatterpolar"
           }
          ],
          "scatterpolargl": [
           {
            "marker": {
             "colorbar": {
              "outlinewidth": 0,
              "ticks": ""
             }
            },
            "type": "scatterpolargl"
           }
          ],
          "scatterternary": [
           {
            "marker": {
             "colorbar": {
              "outlinewidth": 0,
              "ticks": ""
             }
            },
            "type": "scatterternary"
           }
          ],
          "surface": [
           {
            "colorbar": {
             "outlinewidth": 0,
             "ticks": ""
            },
            "colorscale": [
             [
              0,
              "#0d0887"
             ],
             [
              0.1111111111111111,
              "#46039f"
             ],
             [
              0.2222222222222222,
              "#7201a8"
             ],
             [
              0.3333333333333333,
              "#9c179e"
             ],
             [
              0.4444444444444444,
              "#bd3786"
             ],
             [
              0.5555555555555556,
              "#d8576b"
             ],
             [
              0.6666666666666666,
              "#ed7953"
             ],
             [
              0.7777777777777778,
              "#fb9f3a"
             ],
             [
              0.8888888888888888,
              "#fdca26"
             ],
             [
              1,
              "#f0f921"
             ]
            ],
            "type": "surface"
           }
          ],
          "table": [
           {
            "cells": {
             "fill": {
              "color": "#EBF0F8"
             },
             "line": {
              "color": "white"
             }
            },
            "header": {
             "fill": {
              "color": "#C8D4E3"
             },
             "line": {
              "color": "white"
             }
            },
            "type": "table"
           }
          ]
         },
         "layout": {
          "annotationdefaults": {
           "arrowcolor": "#2a3f5f",
           "arrowhead": 0,
           "arrowwidth": 1
          },
          "autotypenumbers": "strict",
          "coloraxis": {
           "colorbar": {
            "outlinewidth": 0,
            "ticks": ""
           }
          },
          "colorscale": {
           "diverging": [
            [
             0,
             "#8e0152"
            ],
            [
             0.1,
             "#c51b7d"
            ],
            [
             0.2,
             "#de77ae"
            ],
            [
             0.3,
             "#f1b6da"
            ],
            [
             0.4,
             "#fde0ef"
            ],
            [
             0.5,
             "#f7f7f7"
            ],
            [
             0.6,
             "#e6f5d0"
            ],
            [
             0.7,
             "#b8e186"
            ],
            [
             0.8,
             "#7fbc41"
            ],
            [
             0.9,
             "#4d9221"
            ],
            [
             1,
             "#276419"
            ]
           ],
           "sequential": [
            [
             0,
             "#0d0887"
            ],
            [
             0.1111111111111111,
             "#46039f"
            ],
            [
             0.2222222222222222,
             "#7201a8"
            ],
            [
             0.3333333333333333,
             "#9c179e"
            ],
            [
             0.4444444444444444,
             "#bd3786"
            ],
            [
             0.5555555555555556,
             "#d8576b"
            ],
            [
             0.6666666666666666,
             "#ed7953"
            ],
            [
             0.7777777777777778,
             "#fb9f3a"
            ],
            [
             0.8888888888888888,
             "#fdca26"
            ],
            [
             1,
             "#f0f921"
            ]
           ],
           "sequentialminus": [
            [
             0,
             "#0d0887"
            ],
            [
             0.1111111111111111,
             "#46039f"
            ],
            [
             0.2222222222222222,
             "#7201a8"
            ],
            [
             0.3333333333333333,
             "#9c179e"
            ],
            [
             0.4444444444444444,
             "#bd3786"
            ],
            [
             0.5555555555555556,
             "#d8576b"
            ],
            [
             0.6666666666666666,
             "#ed7953"
            ],
            [
             0.7777777777777778,
             "#fb9f3a"
            ],
            [
             0.8888888888888888,
             "#fdca26"
            ],
            [
             1,
             "#f0f921"
            ]
           ]
          },
          "colorway": [
           "#636efa",
           "#EF553B",
           "#00cc96",
           "#ab63fa",
           "#FFA15A",
           "#19d3f3",
           "#FF6692",
           "#B6E880",
           "#FF97FF",
           "#FECB52"
          ],
          "font": {
           "color": "#2a3f5f"
          },
          "geo": {
           "bgcolor": "white",
           "lakecolor": "white",
           "landcolor": "#E5ECF6",
           "showlakes": true,
           "showland": true,
           "subunitcolor": "white"
          },
          "hoverlabel": {
           "align": "left"
          },
          "hovermode": "closest",
          "mapbox": {
           "style": "light"
          },
          "paper_bgcolor": "white",
          "plot_bgcolor": "#E5ECF6",
          "polar": {
           "angularaxis": {
            "gridcolor": "white",
            "linecolor": "white",
            "ticks": ""
           },
           "bgcolor": "#E5ECF6",
           "radialaxis": {
            "gridcolor": "white",
            "linecolor": "white",
            "ticks": ""
           }
          },
          "scene": {
           "xaxis": {
            "backgroundcolor": "#E5ECF6",
            "gridcolor": "white",
            "gridwidth": 2,
            "linecolor": "white",
            "showbackground": true,
            "ticks": "",
            "zerolinecolor": "white"
           },
           "yaxis": {
            "backgroundcolor": "#E5ECF6",
            "gridcolor": "white",
            "gridwidth": 2,
            "linecolor": "white",
            "showbackground": true,
            "ticks": "",
            "zerolinecolor": "white"
           },
           "zaxis": {
            "backgroundcolor": "#E5ECF6",
            "gridcolor": "white",
            "gridwidth": 2,
            "linecolor": "white",
            "showbackground": true,
            "ticks": "",
            "zerolinecolor": "white"
           }
          },
          "shapedefaults": {
           "line": {
            "color": "#2a3f5f"
           }
          },
          "ternary": {
           "aaxis": {
            "gridcolor": "white",
            "linecolor": "white",
            "ticks": ""
           },
           "baxis": {
            "gridcolor": "white",
            "linecolor": "white",
            "ticks": ""
           },
           "bgcolor": "#E5ECF6",
           "caxis": {
            "gridcolor": "white",
            "linecolor": "white",
            "ticks": ""
           }
          },
          "title": {
           "x": 0.05
          },
          "xaxis": {
           "automargin": true,
           "gridcolor": "white",
           "linecolor": "white",
           "ticks": "",
           "title": {
            "standoff": 15
           },
           "zerolinecolor": "white",
           "zerolinewidth": 2
          },
          "yaxis": {
           "automargin": true,
           "gridcolor": "white",
           "linecolor": "white",
           "ticks": "",
           "title": {
            "standoff": 15
           },
           "zerolinecolor": "white",
           "zerolinewidth": 2
          }
         }
        },
        "title": {
         "text": "Poverty Rate vs. Vaccination Rate by City (March 2021)"
        },
        "width": 800,
        "xaxis": {
         "anchor": "y",
         "domain": [
          0,
          1
         ],
         "title": {
          "text": "Poverty Rate (%)"
         }
        },
        "yaxis": {
         "anchor": "x",
         "domain": [
          0,
          1
         ],
         "title": {
          "text": "Fully Vaccinated (%)"
         }
        }
       }
      }
     },
     "metadata": {},
     "output_type": "display_data"
    }
   ],
   "source": [
    "poverty_fig = px.scatter(\n",
    "    city_grouped_df,\n",
    "    x=\"poverty_rate\",\n",
    "    y=\"percent_of_population_fully_vaccinated\",\n",
    "    # y=\"percent_of_population_with_1_plus_dose\",\n",
    "    hover_name=\"city\",\n",
    "    hover_data={\n",
    "        \"poverty_rate\": \":.2f\",\n",
    "        \"percent_of_population_fully_vaccinated\": \":.2f\"\n",
    "        # \"percent_of_population_with_1_plus_dose\": \":.2f\"\n",
    "    },\n",
    "    labels={\n",
    "        \"poverty_rate\": \"Poverty Rate (%)\",\n",
    "        \"percent_of_population_fully_vaccinated\": \"Fully Vaccinated (%)\"\n",
    "        # \"percent_of_population_with_1_plus_dose\": \"More Than 1 Dose (%)\"\n",
    "    },\n",
    "    title=\"Poverty Rate vs. Vaccination Rate by City (March 2021)\"\n",
    ")\n",
    "\n",
    "poverty_fig.update_layout(height=600, width=800)\n",
    "poverty_fig.show()\n"
   ]
  },
  {
   "cell_type": "code",
   "execution_count": 135,
   "id": "b66a8984",
   "metadata": {},
   "outputs": [],
   "source": [
    "income_fig.write_html(\"income_vs_vaccination.html\", include_plotlyjs=\"cdn\")\n",
    "poverty_fig.write_html(\"poverty_vs_vaccination.html\", include_plotlyjs=\"cdn\")"
   ]
  }
 ],
 "metadata": {
  "kernelspec": {
   "display_name": "base",
   "language": "python",
   "name": "python3"
  },
  "language_info": {
   "codemirror_mode": {
    "name": "ipython",
    "version": 3
   },
   "file_extension": ".py",
   "mimetype": "text/x-python",
   "name": "python",
   "nbconvert_exporter": "python",
   "pygments_lexer": "ipython3",
   "version": "3.12.7"
  }
 },
 "nbformat": 4,
 "nbformat_minor": 5
}
